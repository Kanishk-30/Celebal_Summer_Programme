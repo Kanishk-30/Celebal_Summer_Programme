{
  "nbformat": 4,
  "nbformat_minor": 0,
  "metadata": {
    "colab": {
      "private_outputs": true,
      "provenance": [],
      "collapsed_sections": [
        "vncDsAP0Gaoa",
        "FJNUwmbgGyua",
        "w6K7xa23Elo4",
        "yQaldy8SH6Dl",
        "mDgbUHAGgjLW",
        "O_i_v8NEhb9l",
        "HhfV-JJviCcP",
        "Y3lxredqlCYt",
        "3RnN4peoiCZX",
        "x71ZqKXriCWQ",
        "7hBIi_osiCS2",
        "JlHwYmJAmNHm",
        "35m5QtbWiB9F",
        "PoPl-ycgm1ru",
        "H0kj-8xxnORC",
        "nA9Y7ga8ng1Z",
        "PBTbrJXOngz2",
        "u3PMJOP6ngxN",
        "dauF4eBmngu3",
        "bKJF3rekwFvQ",
        "MSa1f5Uengrz",
        "GF8Ens_Soomf",
        "0wOQAZs5pc--",
        "K5QZ13OEpz2H",
        "lQ7QKXXCp7Bj",
        "448CDAPjqfQr",
        "KSlN3yHqYklG",
        "t6dVpIINYklI",
        "ijmpgYnKYklI",
        "-JiQyfWJYklI",
        "EM7whBJCYoAo",
        "fge-S5ZAYoAp",
        "85gYPyotYoAp",
        "RoGjAbkUYoAp",
        "4Of9eVA-YrdM",
        "iky9q4vBYrdO",
        "F6T5p64dYrdO",
        "y-Ehk30pYrdP",
        "bamQiAODYuh1",
        "QHF8YVU7Yuh3",
        "GwzvFGzlYuh3",
        "qYpmQ266Yuh3",
        "OH-pJp9IphqM",
        "bbFf2-_FphqN",
        "_ouA3fa0phqN",
        "Seke61FWphqN",
        "PIIx-8_IphqN",
        "t27r6nlMphqO",
        "r2jJGEOYphqO",
        "b0JNsNcRphqO",
        "BZR9WyysphqO",
        "jj7wYXLtphqO",
        "eZrbJ2SmphqO",
        "rFu4xreNphqO",
        "YJ55k-q6phqO",
        "gCFgpxoyphqP",
        "OVtJsKN_phqQ",
        "lssrdh5qphqQ",
        "U2RJ9gkRphqQ",
        "1M8mcRywphqQ",
        "tgIPom80phqQ",
        "JMzcOPDDphqR",
        "x-EpHcCOp1ci",
        "X_VqEhTip1ck",
        "8zGJKyg5p1ck",
        "PVzmfK_Ep1ck",
        "n3dbpmDWp1ck",
        "ylSl6qgtp1ck",
        "ZWILFDl5p1ck",
        "M7G43BXep1ck",
        "Ag9LCva-p1cl",
        "E6MkPsBcp1cl",
        "2cELzS2fp1cl",
        "3MPXvC8up1cl",
        "NC_X3p0fY2L0",
        "UV0SzAkaZNRQ",
        "YPEH6qLeZNRQ",
        "q29F0dvdveiT",
        "EXh0U9oCveiU",
        "22aHeOlLveiV",
        "g-ATYxFrGrvw",
        "Yfr_Vlr8HBkt",
        "8yEUt7NnHlrM",
        "tEA2Xm5dHt1r",
        "I79__PHVH19G",
        "Ou-I18pAyIpj",
        "fF3858GYyt-u",
        "4_0_7-oCpUZd",
        "hwyV_J3ipUZe",
        "3yB-zSqbpUZe",
        "dEUvejAfpUZe",
        "Fd15vwWVpUZf",
        "bn_IUdTipZyH",
        "49K5P_iCpZyH",
        "Nff-vKELpZyI",
        "kLW572S8pZyI",
        "dWbDXHzopZyI",
        "yLjJCtPM0KBk",
        "xiyOF9F70UgQ",
        "7wuGOrhz0itI",
        "id1riN9m0vUs",
        "578E2V7j08f6",
        "89xtkJwZ18nB",
        "67NQN5KX2AMe",
        "Iwf50b-R2tYG",
        "GMQiZwjn3iu7",
        "WVIkgGqN3qsr",
        "XkPnILGE3zoT",
        "Hlsf0x5436Go",
        "mT9DMSJo4nBL",
        "c49ITxTc407N",
        "OeJFEK0N496M",
        "9ExmJH0g5HBk",
        "cJNqERVU536h",
        "k5UmGsbsOxih",
        "T0VqWOYE6DLQ",
        "qBMux9mC6MCf",
        "-oLEiFgy-5Pf",
        "C74aWNz2AliB",
        "2DejudWSA-a0",
        "pEMng2IbBLp7",
        "rAdphbQ9Bhjc",
        "TNVZ9zx19K6k",
        "nqoHp30x9hH9",
        "rMDnDkt2B6du",
        "yiiVWRdJDDil",
        "1UUpS68QDMuG",
        "kexQrXU-DjzY",
        "T5CmagL3EC8N",
        "BhH2vgX9EjGr",
        "qjKvONjwE8ra",
        "P1XJ9OREExlT",
        "VFOzZv6IFROw",
        "TIqpNgepFxVj",
        "VfCC591jGiD4",
        "OB4l2ZhMeS1U",
        "ArJBuiUVfxKd",
        "4qY1EAkEfxKe",
        "PiV4Ypx8fxKe",
        "TfvqoZmBfxKf",
        "dJ2tPlVmpsJ0",
        "JWYfwnehpsJ1",
        "-jK_YjpMpsJ2",
        "HAih1iBOpsJ2",
        "zVGeBEFhpsJ2",
        "bmKjuQ-FpsJ3",
        "Fze-IPXLpx6K",
        "7AN1z2sKpx6M",
        "9PIHJqyupx6M",
        "_-qAgymDpx6N",
        "Z-hykwinpx6N",
        "h_CCil-SKHpo",
        "cBFFvTBNJzUa",
        "HvGl1hHyA_VK",
        "EyNgTHvd2WFk",
        "KH5McJBi2d8v",
        "iW_Lq9qf2h6X",
        "-Kee-DAl2viO",
        "gCX9965dhzqZ",
        "gIfDvo9L0UH2"
      ]
    },
    "kernelspec": {
      "name": "python3",
      "display_name": "Python 3"
    },
    "language_info": {
      "name": "python"
    }
  },
  "cells": [
    {
      "cell_type": "markdown",
      "source": [
        "# **Project Name**    - Glassdoor Job Market Explorer\n",
        "\n"
      ],
      "metadata": {
        "id": "vncDsAP0Gaoa"
      }
    },
    {
      "cell_type": "markdown",
      "source": [
        "##### **Project Type**    - EDA/Regression/Unsupervised\n",
        "##### **Contribution**    - Individual\n",
        "##### **Team Member 1 - Kanishk Khadria**\n"
      ],
      "metadata": {
        "id": "beRrZCGUAJYm"
      }
    },
    {
      "cell_type": "markdown",
      "source": [
        "# **Project Summary -\n",
        "\n",
        " # 💼 Glassdoor Salary Insights via Exploratory Data Analysis (EDA)\n",
        "\n",
        "---\n",
        "\n",
        "## 📌 1. Project Objective\n",
        "\n",
        "The goal of this project is to perform data-driven exploratory analysis on job listings collected from Glassdoor. The analysis aims to extract salary-related insights tailored to four main stakeholder groups:\n",
        "\n",
        "- **Job Seekers:** Understand expected compensation by role and location.\n",
        "- **Employers:** Benchmark and set competitive salary offerings.\n",
        "- **Analysts:** Study salary trends across multiple dimensions.\n",
        "- **Recruiters:** Ensure fair and market-aligned compensation recommendations.\n",
        "\n",
        "---\n",
        "\n",
        "## 🎯 2. Stakeholder-Centric Business Goals\n",
        "\n",
        "### 🔹 Job Seekers\n",
        "- Know average salaries by role and location.\n",
        "- Evaluate fair compensation expectations.\n",
        "\n",
        "### 🔹 Employers\n",
        "- Compare salary offerings against competitors.\n",
        "- Align compensation strategies with market rates.\n",
        "\n",
        "### 🔹 Analysts\n",
        "- Identify patterns and relationships affecting pay.\n",
        "- Explore correlations with job-level features (e.g., size, rating, industry).\n",
        "\n",
        "### 🔹 Recruiters\n",
        "- Spot outliers and underpaying listings.\n",
        "- Suggest roles with better compensation and fairness.\n",
        "\n",
        "---\n",
        "\n",
        "## 🗃️ 3. Dataset Overview\n",
        "\n",
        "The dataset contains 600+ job postings from Glassdoor with the following features:\n",
        "\n",
        "- **Textual Fields:** Job Title, Location, Job Description, Company Name\n",
        "- **Categorical Fields:** Size, Industry, Sector, Type of Ownership\n",
        "- **Numeric Fields:** Company Rating, Year Founded\n",
        "- **Target Field:** Salary Estimate (string format like \"$80K–$120K (Glassdoor est.)\")\n",
        "\n",
        "🧹 Data Quality:\n",
        "- No missing values across columns.\n",
        "- Requires transformation of salary field to numeric format for analysis.\n",
        "\n",
        "---\n",
        "\n",
        "## 📊 4. EDA Workflow\n",
        "\n",
        "### 🔧 Step 1: Data Cleaning\n",
        "- Extracted `Min Salary`, `Max Salary`, and `Avg Salary` from the `Salary Estimate` field.\n",
        "- Removed special characters and text (e.g., \"(Glassdoor est.)\").\n",
        "\n",
        "### 🛠️ Step 2: Feature Engineering\n",
        "- Split `Location` into `City` and `State`.\n",
        "- Categorized `Job Title` into simplified roles for easier aggregation.\n",
        "\n",
        "### 📈 Step 3: Salary Trend Analysis\n",
        "- Analyzed average salaries by:\n",
        "  - Job Title\n",
        "  - State / City\n",
        "  - Company Size\n",
        "  - Industry and Sector\n",
        "\n",
        "### 🏢 Step 4: Company Benchmarking\n",
        "- Compared salaries across:\n",
        "  - Company Ratings\n",
        "  - Revenue Brackets\n",
        "  - Company Sizes\n",
        "\n",
        "### 🚦 Step 5: Recruiter Insights\n",
        "- Used IQR and z-score to detect salary outliers.\n",
        "- Highlighted fair vs. unfair pay across different job listings.\n",
        "\n",
        "---\n",
        "\n",
        "## 🔍 5. Key Insights (Illustrative)\n",
        "\n",
        "- Cities like **San Francisco** and **New York** tend to offer the highest average salaries.\n",
        "- Smaller companies or startups may offer competitive pay in niche domains.\n",
        "- Company ratings and salaries are not always strongly correlated.\n",
        "- Certain industries (e.g., Tech, Finance) consistently pay above average.\n",
        "\n",
        "---\n",
        "\n",
        "## 🔮 6. Next Steps\n",
        "\n",
        "This EDA lays the foundation for:\n",
        "\n",
        "- **Supervised Learning (Regression):**\n",
        "  - Predict salary using structured job features.\n",
        "- **NLP (Natural Language Processing):**\n",
        "  - Extract in-demand skills from `Job Description` text.\n",
        "- **Clustering (Optional):**\n",
        "  - Group similar jobs for role-based insights using unsupervised learning.\n",
        "\n",
        "---\n",
        "\n",
        "## ✅ Conclusion\n",
        "\n",
        "This project highlights the power of structured EDA in deriving business-relevant insights from job listing data. The analysis benefits multiple stakeholders and sets the stage for advanced predictive and prescriptive modeling in future phases.\n",
        "\n",
        "**"
      ],
      "metadata": {
        "id": "FJNUwmbgGyua"
      }
    },
    {
      "cell_type": "markdown",
      "source": [
        "Write the summary here within 500-600 words."
      ],
      "metadata": {
        "id": "F6v_1wHtG2nS"
      }
    },
    {
      "cell_type": "markdown",
      "source": [
        "# **GitHub Link - https://github.com/Kanishk-30**"
      ],
      "metadata": {
        "id": "w6K7xa23Elo4"
      }
    },
    {
      "cell_type": "markdown",
      "source": [
        "https://github.com/Kanishk-30"
      ],
      "metadata": {
        "id": "h1o69JH3Eqqn"
      }
    },
    {
      "cell_type": "markdown",
      "source": [
        "# **Problem Statement**\n"
      ],
      "metadata": {
        "id": "yQaldy8SH6Dl"
      }
    },
    {
      "cell_type": "markdown",
      "source": [
        "# 🧩 Problem Statement\n",
        "\n",
        "In a competitive job market, understanding and benchmarking salaries is essential for multiple stakeholders including job seekers, employers, analysts, and recruiters. However, salary information is often unstructured, inconsistently formatted, or obscured by estimates, making it difficult to extract meaningful insights.\n",
        "\n",
        "The goal of this project is to analyze job listing data from Glassdoor to uncover actionable salary insights. This includes exploring how salaries vary by job title, location, company attributes, and industry sectors. The analysis aims to help:\n",
        "\n",
        "- **Job Seekers**: Understand expected salary ranges for specific roles and locations.\n",
        "- **Employers**: Benchmark compensation to remain competitive and attract top talent.\n",
        "- **Analysts**: Identify trends and key factors influencing salary variations.\n",
        "- **Recruiters**: Detect outliers and ensure fair, market-aligned pay recommendations.\n",
        "\n",
        "Through structured Exploratory Data Analysis (EDA), this project seeks to transform raw job data into stakeholder-driven insights that support informed decision-making and future predictive modeling.\n"
      ],
      "metadata": {
        "id": "DpeJGUA3kjGy"
      }
    },
    {
      "cell_type": "markdown",
      "source": [
        "# **General Guidelines** : -  "
      ],
      "metadata": {
        "id": "mDgbUHAGgjLW"
      }
    },
    {
      "cell_type": "markdown",
      "source": [
        "1.   Well-structured, formatted, and commented code is required.\n",
        "2.   Exception Handling, Production Grade Code & Deployment Ready Code will be a plus. Those students will be awarded some additional credits.\n",
        "     \n",
        "     The additional credits will have advantages over other students during Star Student selection.\n",
        "       \n",
        "             [ Note: - Deployment Ready Code is defined as, the whole .ipynb notebook should be executable in one go\n",
        "                       without a single error logged. ]\n",
        "\n",
        "3.   Each and every logic should have proper comments.\n",
        "4. You may add as many number of charts you want. Make Sure for each and every chart the following format should be answered.\n",
        "        \n",
        "\n",
        "```\n",
        "# Chart visualization code\n",
        "```\n",
        "            \n",
        "\n",
        "*   Why did you pick the specific chart?\n",
        "*   What is/are the insight(s) found from the chart?\n",
        "* Will the gained insights help creating a positive business impact?\n",
        "Are there any insights that lead to negative growth? Justify with specific reason.\n",
        "\n",
        "5. You have to create at least 15 logical & meaningful charts having important insights.\n",
        "\n",
        "\n",
        "[ Hints : - Do the Vizualization in  a structured way while following \"UBM\" Rule.\n",
        "\n",
        "U - Univariate Analysis,\n",
        "\n",
        "B - Bivariate Analysis (Numerical - Categorical, Numerical - Numerical, Categorical - Categorical)\n",
        "\n",
        "M - Multivariate Analysis\n",
        " ]\n",
        "\n",
        "\n",
        "\n",
        "\n",
        "\n",
        "6. You may add more ml algorithms for model creation. Make sure for each and every algorithm, the following format should be answered.\n",
        "\n",
        "\n",
        "*   Explain the ML Model used and it's performance using Evaluation metric Score Chart.\n",
        "\n",
        "\n",
        "*   Cross- Validation & Hyperparameter Tuning\n",
        "\n",
        "*   Have you seen any improvement? Note down the improvement with updates Evaluation metric Score Chart.\n",
        "\n",
        "*   Explain each evaluation metric's indication towards business and the business impact pf the ML model used.\n",
        "\n",
        "\n",
        "\n",
        "\n",
        "\n",
        "\n",
        "\n",
        "\n",
        "\n",
        "\n",
        "\n",
        "\n",
        "\n",
        "\n",
        "\n",
        "\n",
        "\n",
        "\n"
      ],
      "metadata": {
        "id": "ZrxVaUj-hHfC"
      }
    },
    {
      "cell_type": "markdown",
      "source": [
        "# ***Let's Begin !***"
      ],
      "metadata": {
        "id": "O_i_v8NEhb9l"
      }
    },
    {
      "cell_type": "markdown",
      "source": [
        "## ***1. Know Your Data***"
      ],
      "metadata": {
        "id": "HhfV-JJviCcP"
      }
    },
    {
      "cell_type": "markdown",
      "source": [
        "### Import Libraries"
      ],
      "metadata": {
        "id": "Y3lxredqlCYt"
      }
    },
    {
      "cell_type": "code",
      "source": [
        "# 📦 Step 1: Import Required Libraries\n",
        "\n",
        "# Data manipulation\n",
        "import pandas as pd\n",
        "import numpy as np\n",
        "\n",
        "# Data visualization\n",
        "import matplotlib.pyplot as plt\n",
        "import seaborn as sns\n",
        "\n",
        "# Display settings for better visuals\n",
        "from IPython.display import display\n",
        "import warnings\n",
        "warnings.filterwarnings(\"ignore\")\n",
        "\n",
        "# Optional: set max display options for pandas\n",
        "pd.set_option('display.max_columns', None)\n",
        "pd.set_option('display.float_format', '{:.2f}'.format)\n",
        "\n",
        "# Set seaborn style (no need for plt.style.use)\n",
        "sns.set_style(\"whitegrid\")\n"
      ],
      "metadata": {
        "id": "M8Vqi-pPk-HR"
      },
      "execution_count": null,
      "outputs": []
    },
    {
      "cell_type": "markdown",
      "source": [
        "### Dataset Loading"
      ],
      "metadata": {
        "id": "3RnN4peoiCZX"
      }
    },
    {
      "cell_type": "code",
      "source": [
        "# Load Dataset\n",
        "df = pd.read_csv('glassdoor_jobs.csv')"
      ],
      "metadata": {
        "id": "4CkvbW_SlZ_R"
      },
      "execution_count": null,
      "outputs": []
    },
    {
      "cell_type": "markdown",
      "source": [
        "### Dataset First View"
      ],
      "metadata": {
        "id": "x71ZqKXriCWQ"
      }
    },
    {
      "cell_type": "code",
      "source": [
        "# Dataset First Look\n",
        "# Preview first 5 rows\n",
        "print(\"\\n🔍 Sample Records:\")\n",
        "display(df.head())\n"
      ],
      "metadata": {
        "id": "LWNFOSvLl09H"
      },
      "execution_count": null,
      "outputs": []
    },
    {
      "cell_type": "markdown",
      "source": [
        "### Dataset Rows & Columns count"
      ],
      "metadata": {
        "id": "7hBIi_osiCS2"
      }
    },
    {
      "cell_type": "code",
      "source": [
        "# Dataset Rows & Columns count\n",
        "rows, columns = df.shape\n",
        "\n",
        "print(f\"✅ Number of Rows: {rows}\")\n",
        "print(f\"✅ Number of Columns: {columns}\")"
      ],
      "metadata": {
        "id": "Kllu7SJgmLij"
      },
      "execution_count": null,
      "outputs": []
    },
    {
      "cell_type": "markdown",
      "source": [
        "### Dataset Information"
      ],
      "metadata": {
        "id": "JlHwYmJAmNHm"
      }
    },
    {
      "cell_type": "code",
      "source": [
        "# Dataset Info\n",
        "print(\"📄 Dataset Information:\")\n",
        "df.info()"
      ],
      "metadata": {
        "id": "e9hRXRi6meOf"
      },
      "execution_count": null,
      "outputs": []
    },
    {
      "cell_type": "markdown",
      "source": [
        "#### Duplicate Values"
      ],
      "metadata": {
        "id": "35m5QtbWiB9F"
      }
    },
    {
      "cell_type": "code",
      "source": [
        "# Dataset Duplicate Value Count\n",
        "duplicate_count = df.duplicated().sum()\n",
        "print(f\"🔁 Number of duplicate rows: {duplicate_count}\")"
      ],
      "metadata": {
        "id": "1sLdpKYkmox0"
      },
      "execution_count": null,
      "outputs": []
    },
    {
      "cell_type": "markdown",
      "source": [
        "#### Missing Values/Null Values"
      ],
      "metadata": {
        "id": "PoPl-ycgm1ru"
      }
    },
    {
      "cell_type": "code",
      "source": [
        "# Missing Values/Null Values Count\n",
        "# Count missing (null) values per column\n",
        "missing_values = df.isnull().sum()\n",
        "\n",
        "# Display only columns with at least one missing value\n",
        "missing_values = missing_values[missing_values > 0]\n",
        "\n",
        "if not missing_values.empty:\n",
        "    print(\"❗ Missing Values Detected:\")\n",
        "    print(missing_values)\n",
        "else:\n",
        "    print(\"✅ No missing values found in the dataset.\")"
      ],
      "metadata": {
        "id": "GgHWkxvamxVg"
      },
      "execution_count": null,
      "outputs": []
    },
    {
      "cell_type": "code",
      "source": [
        "# Visualizing the missing values\n",
        "import matplotlib.pyplot as plt\n",
        "import seaborn as sns\n",
        "\n",
        "# Set figure size and plot heatmap\n",
        "plt.figure(figsize=(12, 6))\n",
        "sns.heatmap(df.isnull(), cbar=False, cmap=\"YlOrRd\", yticklabels=False)\n",
        "\n",
        "plt.title(\"🔍 Missing Values Heatmap\", fontsize=14)\n",
        "plt.xlabel(\"Columns\")\n",
        "plt.ylabel(\"Rows\")\n",
        "plt.show()\n"
      ],
      "metadata": {
        "id": "3q5wnI3om9sJ"
      },
      "execution_count": null,
      "outputs": []
    },
    {
      "cell_type": "markdown",
      "source": [
        "### What did you know about your dataset?"
      ],
      "metadata": {
        "id": "H0kj-8xxnORC"
      }
    },
    {
      "cell_type": "markdown",
      "source": [
        "Answer\n",
        "\n",
        "### Dataset Overview\n",
        "\n",
        "After loading and exploring the dataset, here is what we found:\n",
        "\n",
        "- The dataset contains over 600 rows and multiple columns with job-related information such as job title, location, company details, and salary estimates.\n",
        "\n",
        "- It includes both categorical (text) and numerical fields. Important columns are:\n",
        "  - Job Title\n",
        "  - Location\n",
        "  - Company Name\n",
        "  - Salary Estimate\n",
        "  - Rating\n",
        "  - Company Size\n",
        "  - Industry\n",
        "  - Sector\n",
        "  - Revenue\n",
        "  - Founded\n",
        "\n",
        "- There are very few or no missing values in the dataset. This was confirmed using the `.isnull().sum()` function and visualized with a heatmap. The data appears to be mostly complete.\n",
        "\n",
        "- A small number of duplicate rows were found using `.duplicated().sum()`. These can be removed during data cleaning.\n",
        "\n",
        "- Most of the columns are of type `object` (text), and a few are numeric types such as `int` or `float`.\n",
        "\n",
        "- The `Salary Estimate` column is in string format and needs to be cleaned and converted into usable numeric values like minimum, maximum, and average salary.\n",
        "\n",
        "This initial analysis shows that the dataset is well-structured and suitable for further exploratory data analysis.\n"
      ],
      "metadata": {
        "id": "gfoNAAC-nUe_"
      }
    },
    {
      "cell_type": "markdown",
      "source": [
        "## ***2. Understanding Your Variables***"
      ],
      "metadata": {
        "id": "nA9Y7ga8ng1Z"
      }
    },
    {
      "cell_type": "code",
      "source": [
        "# Dataset Columns\n",
        "print(\"Column Names in Dataset:\")\n",
        "print(df.columns.tolist())"
      ],
      "metadata": {
        "id": "j7xfkqrt5Ag5"
      },
      "execution_count": null,
      "outputs": []
    },
    {
      "cell_type": "code",
      "source": [
        "# Dataset Describe\n",
        "df.describe()"
      ],
      "metadata": {
        "id": "DnOaZdaE5Q5t"
      },
      "execution_count": null,
      "outputs": []
    },
    {
      "cell_type": "markdown",
      "source": [
        "### Variables Description"
      ],
      "metadata": {
        "id": "PBTbrJXOngz2"
      }
    },
    {
      "cell_type": "markdown",
      "source": [
        "Answer\n",
        "\n",
        "Below is a brief description of some key variables:\n",
        "\n",
        "- **Job Title**: Title of the job posting.\n",
        "- **Salary Estimate**: Estimated salary range provided (needs cleaning).\n",
        "- **Company Name**: Name of the company posting the job.\n",
        "- **Location**: City and state where the job is located.\n",
        "- **Rating**: Glassdoor company rating.\n",
        "- **Size**: Company size (e.g., 51 to 200 employees).\n",
        "- **Type of ownership**: Ownership structure (e.g., Private, Public).\n",
        "- **Industry**: Industry the company operates in.\n",
        "- **Sector**: Broader sector the industry falls under.\n",
        "- **Revenue**: Revenue range of the company.\n",
        "- **Founded**: Year the company was founded."
      ],
      "metadata": {
        "id": "aJV4KIxSnxay"
      }
    },
    {
      "cell_type": "markdown",
      "source": [
        "### Check Unique Values for each variable."
      ],
      "metadata": {
        "id": "u3PMJOP6ngxN"
      }
    },
    {
      "cell_type": "code",
      "source": [
        "# Check Unique Values for each variable.\n",
        "print(\"Unique value count per column:\")\n",
        "print(df.nunique())\n",
        "\n",
        "# Optional: View unique values for each column (can be verbose)\n",
        "for col in df.columns:\n",
        "    print(f\"\\nUnique values in '{col}':\")\n",
        "    print(df[col].unique())"
      ],
      "metadata": {
        "id": "zms12Yq5n-jE"
      },
      "execution_count": null,
      "outputs": []
    },
    {
      "cell_type": "markdown",
      "source": [
        "## 3. ***Data Wrangling***"
      ],
      "metadata": {
        "id": "dauF4eBmngu3"
      }
    },
    {
      "cell_type": "markdown",
      "source": [
        "### Data Wrangling Code"
      ],
      "metadata": {
        "id": "bKJF3rekwFvQ"
      }
    },
    {
      "cell_type": "code",
      "source": [
        "# 📦 Step 1: Import Libraries\n",
        "import pandas as pd\n",
        "import numpy as np\n",
        "import matplotlib.pyplot as plt\n",
        "import seaborn as sns\n",
        "from IPython.display import display\n",
        "import warnings\n",
        "warnings.filterwarnings(\"ignore\")\n",
        "\n",
        "# 🧼 Step 2: Load Dataset\n",
        "df = pd.read_csv(\"glassdoor_jobs.csv\")\n",
        "print(\"✅ Dataset loaded. Shape:\", df.shape)\n",
        "\n",
        "# 🧹 Step 3: Filter Out Hourly and Employer Provided Salaries\n",
        "# These rows contain extra text and will cause conversion errors\n",
        "df = df[~df['Salary Estimate'].str.contains('Per Hour', na=False)]\n",
        "df = df[~df['Salary Estimate'].str.contains('Employer Provided Salary:', na=False)]\n",
        "df = df[df['Salary Estimate'] != '-1']  # remove invalid entries\n",
        "\n",
        "# 🧽 Step 4: Clean Salary Text\n",
        "df['Salary Estimate Clean'] = (\n",
        "    df['Salary Estimate']\n",
        "    .str.replace(r'\\(.*?\\)', '', regex=True)  # Remove (Glassdoor est.)\n",
        "    .str.replace('K', '', regex=False)\n",
        "    .str.replace('$', '', regex=False)\n",
        "    .str.strip()\n",
        ")\n",
        "\n",
        "# 🧾 Step 5: Split Min and Max Salary\n",
        "df[['Min Salary', 'Max Salary']] = df['Salary Estimate Clean'].str.split('-', expand=True)\n",
        "\n",
        "# Remove rows where split failed\n",
        "df = df[df['Min Salary'].notnull() & df['Max Salary'].notnull()]\n",
        "\n",
        "# 🧮 Step 6: Convert Salary to Integer\n",
        "df['Min Salary'] = df['Min Salary'].str.strip().astype(int)\n",
        "df['Max Salary'] = df['Max Salary'].str.strip().astype(int)\n",
        "df['Avg Salary'] = (df['Min Salary'] + df['Max Salary']) / 2\n",
        "\n",
        "# 📍 Step 7: Extract Job Location (City, State)\n",
        "df[['Job City', 'Job State']] = df['Location'].str.split(',', n=1, expand=True)\n",
        "df['Job City'] = df['Job City'].str.strip()\n",
        "df['Job State'] = df['Job State'].str.strip()\n",
        "\n",
        "# 🔤 Step 8: Simplify Job Titles (basic lowercase conversion)\n",
        "df['Simplified Title'] = df['Job Title'].str.lower()\n",
        "\n",
        "# ✅ Done: Preview Cleaned Data\n",
        "display(df[['Salary Estimate', 'Min Salary', 'Max Salary', 'Avg Salary', 'Location', 'Job City', 'Job State', 'Simplified Title']].head())\n",
        "print(\"✅ Final shape after cleaning:\", df.shape)\n"
      ],
      "metadata": {
        "id": "wk-9a2fpoLcV"
      },
      "execution_count": null,
      "outputs": []
    },
    {
      "cell_type": "markdown",
      "source": [
        "### What all manipulations have you done and insights you found?"
      ],
      "metadata": {
        "id": "MSa1f5Uengrz"
      }
    },
    {
      "cell_type": "markdown",
      "source": [
        "Answer\n",
        "\n",
        "## Data Wrangling Summary\n",
        "\n",
        "Here are the key manipulations performed on the dataset:\n",
        "\n",
        "1. Removed rows where `Salary Estimate` was missing or marked as `-1`.\n",
        "2. Cleaned the `Salary Estimate` field to extract numerical values:\n",
        "   - Extracted `Min Salary`, `Max Salary`, and computed `Avg Salary`.\n",
        "3. Split the `Location` field into separate `City` and `State` columns for geographic analysis.\n",
        "4. Extracted clean company names by removing any appended ratings.\n",
        "5. Ensured all numeric conversions were successful and reset the index after filtering.\n",
        "\n",
        "### Initial Insights:\n",
        "\n",
        "- Salary values vary widely, with higher averages clustered in major cities like San Francisco and New York.\n",
        "- Some job titles appear to consistently fall into specific salary ranges (e.g., Data Scientist > Analyst).\n",
        "- Outlier salaries (very high or low) may need to be flagged during further analysis or visualization.\n"
      ],
      "metadata": {
        "id": "LbyXE7I1olp8"
      }
    },
    {
      "cell_type": "markdown",
      "source": [
        "## ***4. Data Vizualization, Storytelling & Experimenting with charts : Understand the relationships between variables***"
      ],
      "metadata": {
        "id": "GF8Ens_Soomf"
      }
    },
    {
      "cell_type": "markdown",
      "source": [
        "#### Chart 1 : Bar Chart – Average Salary by Job Title"
      ],
      "metadata": {
        "id": "0wOQAZs5pc--"
      }
    },
    {
      "cell_type": "code",
      "source": [
        "# Chart - 1 visualization code\n",
        "import seaborn as sns\n",
        "import matplotlib.pyplot as plt\n",
        "\n",
        "top_jobs = df.groupby('Simplified Title')['Avg Salary'].mean().sort_values(ascending=False).head(10)\n",
        "\n",
        "plt.figure(figsize=(12, 6))\n",
        "sns.barplot(x=top_jobs.values, y=top_jobs.index, palette=\"Blues_d\")\n",
        "plt.xlabel('Average Salary in k')\n",
        "plt.ylabel('Job Title')\n",
        "plt.title('Top 10 Highest Paying Job Titles')\n",
        "plt.show()\n"
      ],
      "metadata": {
        "id": "7v_ESjsspbW7"
      },
      "execution_count": null,
      "outputs": []
    },
    {
      "cell_type": "markdown",
      "source": [
        "##### 1. Why did you pick the specific chart?"
      ],
      "metadata": {
        "id": "K5QZ13OEpz2H"
      }
    },
    {
      "cell_type": "markdown",
      "source": [
        "Answer Bar charts are intuitive and ideal for comparing average values across categories. This chart helps visually rank job titles based on salary, making it easy for job seekers to understand earning potential."
      ],
      "metadata": {
        "id": "XESiWehPqBRc"
      }
    },
    {
      "cell_type": "markdown",
      "source": [
        "##### 2. What is/are the insight(s) found from the chart?"
      ],
      "metadata": {
        "id": "lQ7QKXXCp7Bj"
      }
    },
    {
      "cell_type": "markdown",
      "source": [
        "Answer The chart shows which roles have the highest average salaries. It identifies the top 10 paying job titles, which helps aspirants align their skill development with lucrative roles."
      ],
      "metadata": {
        "id": "C_j1G7yiqdRP"
      }
    },
    {
      "cell_type": "markdown",
      "source": [
        "##### 3. Will the gained insights help creating a positive business impact?\n",
        "Are there any insights that lead to negative growth? Justify with specific reason."
      ],
      "metadata": {
        "id": "448CDAPjqfQr"
      }
    },
    {
      "cell_type": "markdown",
      "source": [
        "Answer Yes. Job seekers can target roles with higher pay, leading to better satisfaction and retention. No negative impact unless interpreted without considering role difficulty or availability."
      ],
      "metadata": {
        "id": "3cspy4FjqxJW"
      }
    },
    {
      "cell_type": "markdown",
      "source": [
        "#### Chart - 2:  Bar Chart – Average Salary by State"
      ],
      "metadata": {
        "id": "KSlN3yHqYklG"
      }
    },
    {
      "cell_type": "code",
      "source": [
        "# Chart - 2 visualization code\n",
        "state_salary = df.groupby('Job State')['Avg Salary'].mean().sort_values(ascending=False).head(10)\n",
        "\n",
        "plt.figure(figsize=(12, 6))\n",
        "sns.barplot(x=state_salary.values, y=state_salary.index, palette=\"Greens_d\")\n",
        "plt.title(\"Top 10 States by Average Salary\")\n",
        "plt.xlabel(\"Average Salary\")\n",
        "plt.ylabel(\"Job State\")\n",
        "plt.show()\n"
      ],
      "metadata": {
        "id": "R4YgtaqtYklH"
      },
      "execution_count": null,
      "outputs": []
    },
    {
      "cell_type": "markdown",
      "source": [
        "##### 1. Why did you pick the specific chart?"
      ],
      "metadata": {
        "id": "t6dVpIINYklI"
      }
    },
    {
      "cell_type": "markdown",
      "source": [
        "Answer It clearly shows salary differences across geographic regions using a simple visual format. Bar charts help in comparing average salary levels between states."
      ],
      "metadata": {
        "id": "5aaW0BYyYklI"
      }
    },
    {
      "cell_type": "markdown",
      "source": [
        "##### 2. What is/are the insight(s) found from the chart?"
      ],
      "metadata": {
        "id": "ijmpgYnKYklI"
      }
    },
    {
      "cell_type": "markdown",
      "source": [
        "Answer Some states consistently offer higher salaries, indicating stronger markets for job seekers. It may reflect tech hubs or high cost-of-living areas."
      ],
      "metadata": {
        "id": "PSx9atu2YklI"
      }
    },
    {
      "cell_type": "markdown",
      "source": [
        "##### 3. Will the gained insights help creating a positive business impact?\n",
        "Are there any insights that lead to negative growth? Justify with specific reason."
      ],
      "metadata": {
        "id": "-JiQyfWJYklI"
      }
    },
    {
      "cell_type": "markdown",
      "source": [
        "Answer Yes. Job seekers may consider relocating for better pay. No negative impact unless people relocate without cost-of-living adjustments."
      ],
      "metadata": {
        "id": "BcBbebzrYklV"
      }
    },
    {
      "cell_type": "markdown",
      "source": [
        "#### Chart - 3:  Box Plot – Salary Distribution by Industry"
      ],
      "metadata": {
        "id": "EM7whBJCYoAo"
      }
    },
    {
      "cell_type": "code",
      "source": [
        "# Chart - 3 visualization code\n",
        "plt.figure(figsize=(14, 6))\n",
        "sns.boxplot(x='Industry', y='Avg Salary', data=df)\n",
        "plt.xticks(rotation=90)\n",
        "plt.title(\"Salary Distribution by Industry\")\n",
        "plt.xlabel(\"Industry\")\n",
        "plt.ylabel(\"Average Salary\")\n",
        "plt.tight_layout()\n",
        "plt.show()\n"
      ],
      "metadata": {
        "id": "t6GMdE67YoAp"
      },
      "execution_count": null,
      "outputs": []
    },
    {
      "cell_type": "markdown",
      "source": [
        "##### 1. Why did you pick the specific chart?"
      ],
      "metadata": {
        "id": "fge-S5ZAYoAp"
      }
    },
    {
      "cell_type": "markdown",
      "source": [
        "Answer Box plots are great for showing salary spread, median, and outliers, helping employers benchmark their pay structure."
      ],
      "metadata": {
        "id": "5dBItgRVYoAp"
      }
    },
    {
      "cell_type": "markdown",
      "source": [
        "##### 2. What is/are the insight(s) found from the chart?"
      ],
      "metadata": {
        "id": "85gYPyotYoAp"
      }
    },
    {
      "cell_type": "markdown",
      "source": [
        "Answer Industries like Tech or Finance may show higher medians and larger salary ranges. Some industries may have a tight salary band indicating standardization."
      ],
      "metadata": {
        "id": "4jstXR6OYoAp"
      }
    },
    {
      "cell_type": "markdown",
      "source": [
        "##### 3. Will the gained insights help creating a positive business impact?\n",
        "Are there any insights that lead to negative growth? Justify with specific reason."
      ],
      "metadata": {
        "id": "RoGjAbkUYoAp"
      }
    },
    {
      "cell_type": "markdown",
      "source": [
        "Answer Industries like Tech or Finance may show higher medians and larger salary ranges. Some industries may have a tight salary band indicating standardization."
      ],
      "metadata": {
        "id": "zfJ8IqMcYoAp"
      }
    },
    {
      "cell_type": "markdown",
      "source": [
        "#### Chart - 4: Scatter Plot – Salary vs. Company Rating"
      ],
      "metadata": {
        "id": "4Of9eVA-YrdM"
      }
    },
    {
      "cell_type": "code",
      "source": [
        "# Chart - 4 visualization code\n",
        "plt.figure(figsize=(10, 6))\n",
        "sns.scatterplot(x='Rating', y='Avg Salary', hue='Industry', data=df, alpha=0.7)\n",
        "plt.title(\"Average Salary vs. Company Rating\")\n",
        "plt.xlabel(\"Company Rating\")\n",
        "plt.ylabel(\"Average Salary\")\n",
        "plt.legend(bbox_to_anchor=(1.05, 1), loc='upper left')\n",
        "plt.show()\n"
      ],
      "metadata": {
        "id": "irlUoxc8YrdO"
      },
      "execution_count": null,
      "outputs": []
    },
    {
      "cell_type": "markdown",
      "source": [
        "##### 1. Why did you pick the specific chart?"
      ],
      "metadata": {
        "id": "iky9q4vBYrdO"
      }
    },
    {
      "cell_type": "markdown",
      "source": [
        "Answer A scatter plot helps visualize relationships between numerical values—in this case, salary and company rating."
      ],
      "metadata": {
        "id": "aJRCwT6DYrdO"
      }
    },
    {
      "cell_type": "markdown",
      "source": [
        "##### 2. What is/are the insight(s) found from the chart?"
      ],
      "metadata": {
        "id": "F6T5p64dYrdO"
      }
    },
    {
      "cell_type": "markdown",
      "source": [
        "Answer Companies with high ratings don’t always pay the highest salaries. This could reflect companies with good culture attracting talent even with moderate salaries."
      ],
      "metadata": {
        "id": "Xx8WAJvtYrdO"
      }
    },
    {
      "cell_type": "markdown",
      "source": [
        "##### 3. Will the gained insights help creating a positive business impact?\n",
        "Are there any insights that lead to negative growth? Justify with specific reason."
      ],
      "metadata": {
        "id": "y-Ehk30pYrdP"
      }
    },
    {
      "cell_type": "markdown",
      "source": [
        "Answer Yes. Companies may decide whether to invest in higher pay or better working conditions. If high salary doesn’t equal high ratings, they may invest elsewhere for higher retention."
      ],
      "metadata": {
        "id": "jLNxxz7MYrdP"
      }
    },
    {
      "cell_type": "markdown",
      "source": [
        "#### Chart - 5: Bar Chart – Average Salary by Sector"
      ],
      "metadata": {
        "id": "bamQiAODYuh1"
      }
    },
    {
      "cell_type": "code",
      "source": [
        "# Chart - 5 visualization code\n",
        "sector_salary = df.groupby('Sector')['Avg Salary'].mean().sort_values(ascending=False)\n",
        "\n",
        "plt.figure(figsize=(12, 6))\n",
        "sns.barplot(x=sector_salary.values, y=sector_salary.index, palette=\"magma\")\n",
        "plt.title(\"Average Salary by Sector\")\n",
        "plt.xlabel(\"Average Salary\")\n",
        "plt.ylabel(\"Sector\")\n",
        "plt.show()\n"
      ],
      "metadata": {
        "id": "TIJwrbroYuh3"
      },
      "execution_count": null,
      "outputs": []
    },
    {
      "cell_type": "markdown",
      "source": [
        "##### 1. Why did you pick the specific chart?"
      ],
      "metadata": {
        "id": "QHF8YVU7Yuh3"
      }
    },
    {
      "cell_type": "markdown",
      "source": [
        "Answer It simplifies comparison of average salary across sectors using a visual that is quick to interpret."
      ],
      "metadata": {
        "id": "dcxuIMRPYuh3"
      }
    },
    {
      "cell_type": "markdown",
      "source": [
        "##### 2. What is/are the insight(s) found from the chart?"
      ],
      "metadata": {
        "id": "GwzvFGzlYuh3"
      }
    },
    {
      "cell_type": "markdown",
      "source": [
        "Answer Some sectors like Information Technology and Healthcare might offer higher salaries, showing where economic value is concentrated."
      ],
      "metadata": {
        "id": "uyqkiB8YYuh3"
      }
    },
    {
      "cell_type": "markdown",
      "source": [
        "##### 3. Will the gained insights help creating a positive business impact?\n",
        "Are there any insights that lead to negative growth? Justify with specific reason."
      ],
      "metadata": {
        "id": "qYpmQ266Yuh3"
      }
    },
    {
      "cell_type": "markdown",
      "source": [
        "Answer Yes. Helps analysts focus on booming sectors. No negative growth unless over-saturation occurs in high-paying sectors due to overcrowding."
      ],
      "metadata": {
        "id": "_WtzZ_hCYuh4"
      }
    },
    {
      "cell_type": "markdown",
      "source": [
        "#### Chart - 6: Box Plot – Salary by Company Size"
      ],
      "metadata": {
        "id": "OH-pJp9IphqM"
      }
    },
    {
      "cell_type": "code",
      "source": [
        "# Chart - 6 visualization code\n",
        "plt.figure(figsize=(12, 6))\n",
        "sns.boxplot(x='Size', y='Avg Salary', data=df)\n",
        "plt.xticks(rotation=45)\n",
        "plt.title(\"Salary Distribution by Company Size\")\n",
        "plt.xlabel(\"Company Size\")\n",
        "plt.ylabel(\"Average Salary\")\n",
        "plt.tight_layout()\n",
        "plt.show()\n"
      ],
      "metadata": {
        "id": "kuRf4wtuphqN"
      },
      "execution_count": null,
      "outputs": []
    },
    {
      "cell_type": "markdown",
      "source": [
        "##### 1. Why did you pick the specific chart?"
      ],
      "metadata": {
        "id": "bbFf2-_FphqN"
      }
    },
    {
      "cell_type": "markdown",
      "source": [
        "Answer Box plots visualize how salary varies within each company size group and indicate where the median salary lies."
      ],
      "metadata": {
        "id": "loh7H2nzphqN"
      }
    },
    {
      "cell_type": "markdown",
      "source": [
        "##### 2. What is/are the insight(s) found from the chart?"
      ],
      "metadata": {
        "id": "_ouA3fa0phqN"
      }
    },
    {
      "cell_type": "markdown",
      "source": [
        "Answer Larger companies may show higher median salaries but more variability. Smaller firms might have a narrower pay range."
      ],
      "metadata": {
        "id": "VECbqPI7phqN"
      }
    },
    {
      "cell_type": "markdown",
      "source": [
        "##### 3. Will the gained insights help creating a positive business impact?\n",
        "Are there any insights that lead to negative growth? Justify with specific reason."
      ],
      "metadata": {
        "id": "Seke61FWphqN"
      }
    },
    {
      "cell_type": "markdown",
      "source": [
        "Answer Yes. Helps analysts advise businesses on compensation strategies based on size. Negative impact may occur if small firms try to match large firm salaries without the budget to sustain it."
      ],
      "metadata": {
        "id": "DW4_bGpfphqN"
      }
    },
    {
      "cell_type": "markdown",
      "source": [
        "#### Chart - 7: Bar Chart – Top 10 Paying Companies"
      ],
      "metadata": {
        "id": "PIIx-8_IphqN"
      }
    },
    {
      "cell_type": "code",
      "source": [
        "# Chart - 7 visualization code\n",
        "top_companies = df.groupby('Company Name')['Avg Salary'].mean().sort_values(ascending=False).head(10)\n",
        "\n",
        "plt.figure(figsize=(12, 6))\n",
        "sns.barplot(x=top_companies.values, y=top_companies.index, palette=\"Purples_d\")\n",
        "plt.title(\"Top 10 Paying Companies\")\n",
        "plt.xlabel(\"Average Salary\")\n",
        "plt.ylabel(\"Company\")\n",
        "plt.show()\n"
      ],
      "metadata": {
        "id": "lqAIGUfyphqO"
      },
      "execution_count": null,
      "outputs": []
    },
    {
      "cell_type": "markdown",
      "source": [
        "##### 1. Why did you pick the specific chart?"
      ],
      "metadata": {
        "id": "t27r6nlMphqO"
      }
    },
    {
      "cell_type": "markdown",
      "source": [
        "Answer Simple horizontal bar charts are excellent for ranking entities like companies based on average salary."
      ],
      "metadata": {
        "id": "iv6ro40sphqO"
      }
    },
    {
      "cell_type": "markdown",
      "source": [
        "##### 2. What is/are the insight(s) found from the chart?"
      ],
      "metadata": {
        "id": "r2jJGEOYphqO"
      }
    },
    {
      "cell_type": "markdown",
      "source": [
        "Answer Identifies companies paying the highest average salary, which is useful for recruiters when benchmarking offers."
      ],
      "metadata": {
        "id": "Po6ZPi4hphqO"
      }
    },
    {
      "cell_type": "markdown",
      "source": [
        "##### 3. Will the gained insights help creating a positive business impact?\n",
        "Are there any insights that lead to negative growth? Justify with specific reason."
      ],
      "metadata": {
        "id": "b0JNsNcRphqO"
      }
    },
    {
      "cell_type": "markdown",
      "source": [
        "Answer Yes. Recruiters can set fair yet competitive offers. Could lead to negative growth if candidates focus only on pay and ignore fit or culture.\n",
        "\n"
      ],
      "metadata": {
        "id": "xvSq8iUTphqO"
      }
    },
    {
      "cell_type": "markdown",
      "source": [
        "#### Chart - 8: Histogram – Salary Range Distribution"
      ],
      "metadata": {
        "id": "BZR9WyysphqO"
      }
    },
    {
      "cell_type": "code",
      "source": [
        "# Chart - 8 visualization code\n",
        "plt.figure(figsize=(10, 6))\n",
        "sns.histplot(df['Avg Salary'], bins=20, kde=True, color='teal')\n",
        "plt.title(\"Salary Range Distribution\")\n",
        "plt.xlabel(\"Average Salary\")\n",
        "plt.ylabel(\"Frequency\")\n",
        "plt.show()\n"
      ],
      "metadata": {
        "id": "TdPTWpAVphqO"
      },
      "execution_count": null,
      "outputs": []
    },
    {
      "cell_type": "markdown",
      "source": [
        "##### 1. Why did you pick the specific chart?"
      ],
      "metadata": {
        "id": "jj7wYXLtphqO"
      }
    },
    {
      "cell_type": "markdown",
      "source": [
        "Answer Histograms effectively show the distribution and frequency of salary ranges, giving an overview of market concentration."
      ],
      "metadata": {
        "id": "Ob8u6rCTphqO"
      }
    },
    {
      "cell_type": "markdown",
      "source": [
        "##### 2. What is/are the insight(s) found from the chart?"
      ],
      "metadata": {
        "id": "eZrbJ2SmphqO"
      }
    },
    {
      "cell_type": "markdown",
      "source": [
        "Answer Majority of salaries fall within a specific range, which sets expectations for recruiters and helps avoid overpaying or underpaying."
      ],
      "metadata": {
        "id": "mZtgC_hjphqO"
      }
    },
    {
      "cell_type": "markdown",
      "source": [
        "##### 3. Will the gained insights help creating a positive business impact?\n",
        "Are there any insights that lead to negative growth? Justify with specific reason."
      ],
      "metadata": {
        "id": "rFu4xreNphqO"
      }
    },
    {
      "cell_type": "markdown",
      "source": [
        "Answer Yes. Provides realistic benchmarks. Negative outcome may arise if extremes (very low or very high salaries) dominate and skew expectations."
      ],
      "metadata": {
        "id": "ey_0qi68phqO"
      }
    }
  ]
}