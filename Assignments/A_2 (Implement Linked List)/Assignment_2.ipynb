{
  "nbformat": 4,
  "nbformat_minor": 0,
  "metadata": {
    "colab": {
      "provenance": []
    },
    "kernelspec": {
      "name": "python3",
      "display_name": "Python 3"
    },
    "language_info": {
      "name": "python"
    }
  },
  "cells": [
    {
      "cell_type": "code",
      "execution_count": 2,
      "metadata": {
        "colab": {
          "base_uri": "https://localhost:8080/"
        },
        "id": "hV3yxw09avkd",
        "outputId": "15a598df-08a4-4063-c12c-36ee44723354"
      },
      "outputs": [
        {
          "output_type": "stream",
          "name": "stdout",
          "text": [
            " SAMPLE RUN 1: Create and Print list \n",
            "10 -> 20 -> 30 -> 40 -> 50 -> None\n",
            "\n",
            " SAMPLE RUN 2: Delete 2nd node\n",
            "Deleting node at position {n} with value '{current.next.data}'\n",
            "10 -> 30 -> 40 -> 50 -> None\n",
            "\n",
            " SAMPLE RUN 3: Delete 1st node\n",
            "Deleting node at position 1 with value '10'\n",
            "30 -> 40 -> 50 -> None\n",
            "\n",
            " SAMPLE RUN 4: Delete invalid node position(10)\n",
            "Error: Index out of range.\n",
            "\n",
            " SAMPLE RUN 5: Delete from empty list\n",
            "Error: Cannot delete from an empty list.\n"
          ]
        }
      ],
      "source": [
        "class Node:\n",
        "  def __init__(self, data):\n",
        "    self.data = data\n",
        "    self.next = None\n",
        "\n",
        "class LinkedList:\n",
        "  def __init__(self):\n",
        "    self.head = None\n",
        "\n",
        "  def add_node(self, data):\n",
        "    new_node = Node(data)\n",
        "    if self.head is None:\n",
        "      self.head = new_node\n",
        "      return\n",
        "    current = self.head\n",
        "    while current.next:\n",
        "      current = current.next\n",
        "    current.next = new_node\n",
        "\n",
        "  def print_list(self):\n",
        "    current = self.head\n",
        "    if not current:\n",
        "      print(\"List is empty.\")\n",
        "      return\n",
        "    while current:\n",
        "      print(current.data, end=\" -> \")\n",
        "      current = current.next\n",
        "    print(\"None\")\n",
        "\n",
        "  def delete_nth_node(self, n):\n",
        "    try:\n",
        "        if self.head is None:\n",
        "          raise IndexError(\"Cannot delete from an empty list.\")\n",
        "\n",
        "        if n <= 0:\n",
        "          raise IndexError(\"Index must be a positive integer.\")\n",
        "\n",
        "        if n == 1:\n",
        "          print(f\"Deleting node at position {n} with value '{self.head.data}'\")\n",
        "          self.head = self.head.next\n",
        "\n",
        "          return\n",
        "\n",
        "        current = self.head\n",
        "        count = 1\n",
        "\n",
        "        while current and count < n-1:\n",
        "          current = current.next\n",
        "          count += 1\n",
        "\n",
        "        if not current or not current.next:\n",
        "          raise IndexError(\"Index out of range.\")\n",
        "\n",
        "        print(\"Deleting node at position {n} with value '{current.next.data}'\")\n",
        "        current.next = current.next.next\n",
        "\n",
        "    except IndexError as e:\n",
        "      print(f\"Error: {e}\")\n",
        "\n",
        "\n",
        "\n",
        "# SAMPLE RUNSSSS\n",
        "\n",
        "\n",
        "\n",
        "print(\" SAMPLE RUN 1: Create and Print list \")\n",
        "l1 = LinkedList()\n",
        "l1.add_node(10)\n",
        "l1.add_node(20)\n",
        "l1.add_node(30)\n",
        "l1.add_node(40)\n",
        "l1.add_node(50)\n",
        "l1.print_list()\n",
        "\n",
        "print(\"\\n SAMPLE RUN 2: Delete 2nd node\")\n",
        "l1.delete_nth_node(2)\n",
        "l1.print_list()\n",
        "\n",
        "print(\"\\n SAMPLE RUN 3: Delete 1st node\")\n",
        "l1.delete_nth_node(1)\n",
        "l1.print_list()\n",
        "\n",
        "print(\"\\n SAMPLE RUN 4: Delete invalid node position(10)\")\n",
        "l1.delete_nth_node(10)\n",
        "\n",
        "print(\"\\n SAMPLE RUN 5: Delete from empty list\")\n",
        "empty_l1 = LinkedList()\n",
        "empty_l1.delete_nth_node(1)"
      ]
    },
    {
      "cell_type": "code",
      "source": [],
      "metadata": {
        "id": "C-3oEV5uC8Gt"
      },
      "execution_count": null,
      "outputs": []
    }
  ]
}