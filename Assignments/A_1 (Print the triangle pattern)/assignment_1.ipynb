{
  "nbformat": 4,
  "nbformat_minor": 0,
  "metadata": {
    "colab": {
      "provenance": []
    },
    "kernelspec": {
      "name": "python3",
      "display_name": "Python 3"
    },
    "language_info": {
      "name": "python"
    }
  },
  "cells": [
    {
      "cell_type": "markdown",
      "source": [
        "LOWER TRIANGULAR PATTERN\n"
      ],
      "metadata": {
        "id": "s1KvUx1hWbNb"
      }
    },
    {
      "cell_type": "code",
      "execution_count": 2,
      "metadata": {
        "colab": {
          "base_uri": "https://localhost:8080/"
        },
        "id": "JaJK97jpUdlM",
        "outputId": "01c20522-c76b-4b6b-93ee-7da07b83a00e"
      },
      "outputs": [
        {
          "output_type": "stream",
          "name": "stdout",
          "text": [
            "*         \n",
            "* *       \n",
            "* * *     \n",
            "* * * *   \n",
            "* * * * * \n"
          ]
        }
      ],
      "source": [
        "row = 5\n",
        "for i in range(1, row+1):\n",
        "  for j in range(1, row+1):\n",
        "    if j<=i:\n",
        "      print(\"*\", end=\" \")\n",
        "    else:\n",
        "      print(\" \", end=\" \")\n",
        "  print()\n"
      ]
    },
    {
      "cell_type": "markdown",
      "source": [
        "UPPER TRIANGULAR PATTERN\n"
      ],
      "metadata": {
        "id": "TEskWZMNWhN7"
      }
    },
    {
      "cell_type": "code",
      "source": [
        "row = 5\n",
        "for i in range(1, row+1):\n",
        "  for j in range(1, row+1):\n",
        "    if j>=i:\n",
        "      print(\"*\", end=\" \")\n",
        "    else:\n",
        "      print(\" \", end=\" \")\n",
        "  print()"
      ],
      "metadata": {
        "colab": {
          "base_uri": "https://localhost:8080/"
        },
        "id": "oyKPFY6zWE8b",
        "outputId": "38988ea0-6de7-427a-dee8-9b17204c2184"
      },
      "execution_count": 5,
      "outputs": [
        {
          "output_type": "stream",
          "name": "stdout",
          "text": [
            "* * * * * \n",
            "  * * * * \n",
            "    * * * \n",
            "      * * \n",
            "        * \n"
          ]
        }
      ]
    },
    {
      "cell_type": "markdown",
      "source": [
        "PYRAMID PATTERN"
      ],
      "metadata": {
        "id": "MYxmG9g2YVoi"
      }
    },
    {
      "cell_type": "code",
      "source": [
        "rows = 5\n",
        "for i in range(1, rows+1):\n",
        "  print(\" \"*(rows-i) + \"* \"*i)"
      ],
      "metadata": {
        "colab": {
          "base_uri": "https://localhost:8080/"
        },
        "id": "2j5_-Rt3XNMq",
        "outputId": "af09b359-588a-4a17-bd2e-ae0eed4070ef"
      },
      "execution_count": 6,
      "outputs": [
        {
          "output_type": "stream",
          "name": "stdout",
          "text": [
            "    * \n",
            "   * * \n",
            "  * * * \n",
            " * * * * \n",
            "* * * * * \n"
          ]
        }
      ]
    },
    {
      "cell_type": "code",
      "source": [],
      "metadata": {
        "id": "zoJ_RCsIYSkp"
      },
      "execution_count": null,
      "outputs": []
    }
  ]
}