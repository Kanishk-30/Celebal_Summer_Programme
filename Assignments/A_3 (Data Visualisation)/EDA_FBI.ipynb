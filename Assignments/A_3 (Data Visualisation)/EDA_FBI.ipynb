{
  "nbformat": 4,
  "nbformat_minor": 0,
  "metadata": {
    "colab": {
      "private_outputs": true,
      "provenance": [],
      "collapsed_sections": [
        "vncDsAP0Gaoa",
        "FJNUwmbgGyua",
        "w6K7xa23Elo4",
        "yQaldy8SH6Dl",
        "PH-0ReGfmX4f",
        "mDgbUHAGgjLW",
        "O_i_v8NEhb9l",
        "HhfV-JJviCcP",
        "Y3lxredqlCYt",
        "3RnN4peoiCZX",
        "x71ZqKXriCWQ",
        "7hBIi_osiCS2",
        "JlHwYmJAmNHm",
        "35m5QtbWiB9F",
        "PoPl-ycgm1ru",
        "H0kj-8xxnORC",
        "nA9Y7ga8ng1Z",
        "PBTbrJXOngz2",
        "u3PMJOP6ngxN",
        "dauF4eBmngu3",
        "bKJF3rekwFvQ",
        "MSa1f5Uengrz",
        "GF8Ens_Soomf",
        "0wOQAZs5pc--",
        "K5QZ13OEpz2H",
        "lQ7QKXXCp7Bj",
        "448CDAPjqfQr",
        "KSlN3yHqYklG",
        "t6dVpIINYklI",
        "ijmpgYnKYklI",
        "-JiQyfWJYklI",
        "EM7whBJCYoAo",
        "fge-S5ZAYoAp",
        "85gYPyotYoAp",
        "RoGjAbkUYoAp",
        "4Of9eVA-YrdM",
        "iky9q4vBYrdO",
        "F6T5p64dYrdO",
        "y-Ehk30pYrdP",
        "bamQiAODYuh1",
        "QHF8YVU7Yuh3",
        "GwzvFGzlYuh3",
        "qYpmQ266Yuh3",
        "OH-pJp9IphqM",
        "bbFf2-_FphqN",
        "_ouA3fa0phqN",
        "Seke61FWphqN",
        "PIIx-8_IphqN",
        "t27r6nlMphqO",
        "r2jJGEOYphqO",
        "b0JNsNcRphqO",
        "BZR9WyysphqO",
        "jj7wYXLtphqO",
        "eZrbJ2SmphqO",
        "rFu4xreNphqO",
        "YJ55k-q6phqO",
        "gCFgpxoyphqP",
        "OVtJsKN_phqQ",
        "lssrdh5qphqQ",
        "U2RJ9gkRphqQ",
        "1M8mcRywphqQ",
        "tgIPom80phqQ",
        "JMzcOPDDphqR",
        "x-EpHcCOp1ci",
        "X_VqEhTip1ck",
        "8zGJKyg5p1ck",
        "PVzmfK_Ep1ck",
        "n3dbpmDWp1ck",
        "ylSl6qgtp1ck",
        "ZWILFDl5p1ck",
        "M7G43BXep1ck",
        "Ag9LCva-p1cl",
        "E6MkPsBcp1cl",
        "2cELzS2fp1cl",
        "3MPXvC8up1cl",
        "NC_X3p0fY2L0",
        "UV0SzAkaZNRQ",
        "YPEH6qLeZNRQ",
        "q29F0dvdveiT",
        "EXh0U9oCveiU",
        "22aHeOlLveiV",
        "JcMwzZxoAimU",
        "8G2x9gOozGDZ",
        "gCX9965dhzqZ",
        "gIfDvo9L0UH2"
      ]
    },
    "kernelspec": {
      "name": "python3",
      "display_name": "Python 3"
    },
    "language_info": {
      "name": "python"
    }
  },
  "cells": [
    {
      "cell_type": "markdown",
      "source": [
        "# **Project Name**    -  **FBI Timeseries Forecasting**\n",
        "\n",
        "\n"
      ],
      "metadata": {
        "id": "vncDsAP0Gaoa"
      }
    },
    {
      "cell_type": "markdown",
      "source": [
        "##### **Project Type**    - EDA/Regression\n",
        "##### **Contribution**    - Individual"
      ],
      "metadata": {
        "id": "beRrZCGUAJYm"
      }
    },
    {
      "cell_type": "markdown",
      "source": [
        "# **Project Summary - FBI Time Series Forecasting**"
      ],
      "metadata": {
        "id": "FJNUwmbgGyua"
      }
    },
    {
      "cell_type": "markdown",
      "source": [
        "**Overview:-**\n",
        "The FBI Time Series Forecasting project focuses on analyzing historical crime data to predict future crime trends in the United States. Time series forecasting is a crucial area of data science that applies statistical and machine learning methods to temporal data, enabling insights and anticipatory decision-making. This project aims to forecast crime counts based on historical trends, seasonality, and other temporal patterns to assist law enforcement agencies, policymakers, and analysts in strategic planning and resource allocation.\n",
        "\n",
        "**Project Objective :-**\n",
        "The primary goal of this project is to build a predictive model that can accurately forecast future values of crime data based on historical FBI crime statistics. This involves understanding past trends, detecting seasonal fluctuations, and identifying anomalies or changes in crime patterns. The project does not classify data into categories but rather predicts continuous numerical values, making it a supervised regression problem with a time series structure.\n",
        "\n",
        "**Problem Understanding :-**\n",
        "FBI crime data often exhibits time-dependent characteristics such as long-term trends, recurring seasonal behaviors, and occasional outliers due to events like policy changes, pandemics, or social unrest. Therefore, a deep understanding of these patterns is vital. Time series data is inherently sequential, meaning the order and intervals between data points play a significant role. The forecasting model must account for this temporal dependency to provide reliable future predictions.\n",
        "\n",
        "**Methodology :-**\n",
        "The project follows a structured approach beginning with Exploratory Data Analysis (EDA) to understand the underlying structure of the dataset. EDA includes plotting time series data, analyzing seasonality and trend components, and checking for stationarity using statistical tests such as the Augmented Dickey-Fuller (ADF) test.\n",
        "\n",
        "Following this, various forecasting models are considered:\n",
        "\n",
        "Statistical Models: ARIMA and SARIMA are evaluated for their ability to handle\n",
        "trend and seasonality. These models are well-suited for univariate time series forecasting where interpretability and performance are balanced.\n",
        "\n",
        "Machine Learning Models: Algorithms like Random Forest and XGBoost are used with engineered features such as lag values and rolling averages. These models are helpful when there is a need to incorporate additional covariates or when data patterns are non-linear.\n",
        "\n",
        "Deep Learning Models: LSTM (Long Short-Term Memory networks) and Transformer-based models are explored for capturing long-term dependencies and complex sequences in the data.\n",
        "\n",
        "Each model is trained using historical data and validated using time-based cross-validation to ensure that the temporal integrity of the data is preserved.\n",
        "\n",
        "**Evaluation Metrics**\n",
        "To measure the performance of the forecasting models, standard regression metrics such as Mean Absolute Error (MAE), Root Mean Squared Error (RMSE), and Mean Absolute Percentage Error (MAPE) are used. These metrics provide insight into the accuracy and reliability of each model's predictions.\n",
        "\n",
        "**Expected Outcomes**\n",
        "The final output of the project is a trained forecasting model capable of predicting future crime rates based on past data. This model can assist in proactive planning, resource optimization, and policy development. In addition, visualizations generated during EDA and forecasting will help stakeholders better understand crime trends over time.\n",
        "\n",
        "**Significance**\n",
        "The FBI Time Series Forecasting project demonstrates how data science can be applied to public safety and governance. Accurate forecasting enables decision-makers to anticipate changes in crime levels and respond effectively. By leveraging historical data, this project contributes to smarter, data-driven crime prevention strategies."
      ],
      "metadata": {
        "id": "F6v_1wHtG2nS"
      }
    },
    {
      "cell_type": "markdown",
      "source": [
        "# **GitHub Link - https://github.com/Kanishk-30**"
      ],
      "metadata": {
        "id": "w6K7xa23Elo4"
      }
    },
    {
      "cell_type": "markdown",
      "source": [
        "[Kanishk's Github](https://github.com/Kanishk-30)"
      ],
      "metadata": {
        "id": "h1o69JH3Eqqn"
      }
    },
    {
      "cell_type": "markdown",
      "source": [
        "# **Problem Statement**\n"
      ],
      "metadata": {
        "id": "yQaldy8SH6Dl"
      }
    },
    {
      "cell_type": "markdown",
      "source": [
        "**To develop an accurate and reliable time series forecasting model using historical FBI crime data to predict future crime occurrences, enabling better planning, policy formulation, and resource allocation by identifying temporal patterns such as trends and seasonality in crime rates.**\n",
        "\n",
        "\n"
      ],
      "metadata": {
        "id": "DpeJGUA3kjGy"
      }
    },
    {
      "cell_type": "markdown",
      "source": [
        "#### **Define Your Business Objective?**"
      ],
      "metadata": {
        "id": "PH-0ReGfmX4f"
      }
    },
    {
      "cell_type": "markdown",
      "source": [
        "To enhance strategic decision-making and operational efficiency within law enforcement agencies by leveraging predictive analytics to forecast future crime trends, allowing for timely intervention, optimal resource allocation, and data-driven policy development."
      ],
      "metadata": {
        "id": "PhDvGCAqmjP1"
      }
    },
    {
      "cell_type": "markdown",
      "source": [
        "# **General Guidelines** : -  "
      ],
      "metadata": {
        "id": "mDgbUHAGgjLW"
      }
    },
    {
      "cell_type": "markdown",
      "source": [
        "1.   Well-structured, formatted, and commented code is required.\n",
        "2.   Exception Handling, Production Grade Code & Deployment Ready Code will be a plus. Those students will be awarded some additional credits.\n",
        "     \n",
        "     The additional credits will have advantages over other students during Star Student selection.\n",
        "       \n",
        "             [ Note: - Deployment Ready Code is defined as, the whole .ipynb notebook should be executable in one go\n",
        "                       without a single error logged. ]\n",
        "\n",
        "3.   Each and every logic should have proper comments.\n",
        "4. You may add as many number of charts you want. Make Sure for each and every chart the following format should be answered.\n",
        "        \n",
        "\n",
        "```\n",
        "# Chart visualization code\n",
        "```\n",
        "            \n",
        "\n",
        "*   Why did you pick the specific chart?\n",
        "*   What is/are the insight(s) found from the chart?\n",
        "* Will the gained insights help creating a positive business impact?\n",
        "Are there any insights that lead to negative growth? Justify with specific reason.\n",
        "\n",
        "5. You have to create at least 20 logical & meaningful charts having important insights.\n",
        "\n",
        "\n",
        "[ Hints : - Do the Vizualization in  a structured way while following \"UBM\" Rule.\n",
        "\n",
        "U - Univariate Analysis,\n",
        "\n",
        "B - Bivariate Analysis (Numerical - Categorical, Numerical - Numerical, Categorical - Categorical)\n",
        "\n",
        "M - Multivariate Analysis\n",
        " ]\n",
        "\n",
        "\n",
        "\n"
      ],
      "metadata": {
        "id": "ZrxVaUj-hHfC"
      }
    },
    {
      "cell_type": "markdown",
      "source": [
        "# ***Let's Begin !***"
      ],
      "metadata": {
        "id": "O_i_v8NEhb9l"
      }
    },
    {
      "cell_type": "markdown",
      "source": [
        "## ***1. Know Your Data***"
      ],
      "metadata": {
        "id": "HhfV-JJviCcP"
      }
    },
    {
      "cell_type": "markdown",
      "source": [
        "### Import Libraries"
      ],
      "metadata": {
        "id": "Y3lxredqlCYt"
      }
    },
    {
      "cell_type": "code",
      "source": [
        "# Import Libraries\n",
        "# Basic Libraries\n",
        "import numpy as np                # for numerical operations\n",
        "import pandas as pd               # for data manipulation and analysis\n",
        "\n",
        "# Visualization\n",
        "import matplotlib.pyplot as plt   # for plotting basic graphs\n",
        "import seaborn as sns             # for advanced visualizations\n",
        "import plotly.express as px       # for interactive plots (optional but helpful)\n",
        "import matplotlib.dates as mdates # for date formatting in time series plots\n",
        "\n",
        "# Time Series-Specific Analysis\n",
        "from statsmodels.tsa.seasonal import seasonal_decompose   # for decomposing trends & seasonality\n",
        "from statsmodels.tsa.stattools import adfuller            # for stationarity test (ADF test)\n",
        "from pandas.plotting import lag_plot, autocorrelation_plot # for checking dependencies\n",
        "\n",
        "# Warnings Handling\n",
        "import warnings\n",
        "warnings.filterwarnings('ignore')\n"
      ],
      "metadata": {
        "id": "M8Vqi-pPk-HR"
      },
      "execution_count": null,
      "outputs": []
    },
    {
      "cell_type": "markdown",
      "source": [
        "### Dataset Loading"
      ],
      "metadata": {
        "id": "3RnN4peoiCZX"
      }
    },
    {
      "cell_type": "code",
      "source": [
        "# Load Dataset\n",
        "# Load training dataset (event-level crime data)\n",
        "train_df = pd.read_excel('Train.xlsx', parse_dates=['Date'])\n",
        "\n",
        "# Load test dataset (monthly aggregate template)\n",
        "test_df = pd.read_csv('Test.csv')\n"
      ],
      "metadata": {
        "id": "4CkvbW_SlZ_R"
      },
      "execution_count": null,
      "outputs": []
    },
    {
      "cell_type": "markdown",
      "source": [
        "### Dataset First View"
      ],
      "metadata": {
        "id": "x71ZqKXriCWQ"
      }
    },
    {
      "cell_type": "code",
      "source": [
        "# Dataset First Look\n",
        "print(\"Training Data Preview:\")\n",
        "print(train_df.head())\n",
        "\n",
        "print(\"\\nTest Data Preview:\")\n",
        "print(test_df.head())\n"
      ],
      "metadata": {
        "id": "LWNFOSvLl09H"
      },
      "execution_count": null,
      "outputs": []
    },
    {
      "cell_type": "markdown",
      "source": [
        "### Dataset Rows & Columns count"
      ],
      "metadata": {
        "id": "7hBIi_osiCS2"
      }
    },
    {
      "cell_type": "code",
      "source": [
        "# Dataset Rows & Columns count\n",
        "print(f\"Training Data - Rows: {train_df.shape[0]}, Columns: {train_df.shape[1]}\")\n",
        "print(f\"Test Data - Rows: {test_df.shape[0]}, Columns: {test_df.shape[1]}\")\n"
      ],
      "metadata": {
        "id": "Kllu7SJgmLij"
      },
      "execution_count": null,
      "outputs": []
    },
    {
      "cell_type": "markdown",
      "source": [
        "### Dataset Information"
      ],
      "metadata": {
        "id": "JlHwYmJAmNHm"
      }
    },
    {
      "cell_type": "code",
      "source": [
        "# Dataset Info\n",
        "print(\"Training Dataset Info:\")\n",
        "train_df.info()\n"
      ],
      "metadata": {
        "id": "e9hRXRi6meOf"
      },
      "execution_count": null,
      "outputs": []
    },
    {
      "cell_type": "markdown",
      "source": [
        "#### Duplicate Values"
      ],
      "metadata": {
        "id": "35m5QtbWiB9F"
      }
    },
    {
      "cell_type": "code",
      "source": [
        "# Dataset Duplicate Value Count\n",
        "duplicate_rows = train_df.duplicated().sum()\n",
        "print(f\"Duplicate Rows in Training Data: {duplicate_rows}\")\n",
        "\n",
        "# Optionally drop duplicates\n",
        "train_df = train_df.drop_duplicates()\n"
      ],
      "metadata": {
        "id": "1sLdpKYkmox0"
      },
      "execution_count": null,
      "outputs": []
    },
    {
      "cell_type": "markdown",
      "source": [
        "#### Missing Values/Null Values"
      ],
      "metadata": {
        "id": "PoPl-ycgm1ru"
      }
    },
    {
      "cell_type": "code",
      "source": [
        "# Missing Values/Null Values Count\n",
        "print(\"Missing Values in Training Data:\")\n",
        "print(train_df.isnull().sum())\n",
        "\n",
        "# Visualize missing data\n",
        "plt.figure(figsize=(12, 6))\n",
        "sns.heatmap(train_df.isnull(), cbar=False, cmap=\"Reds\")\n",
        "plt.title(\"Missing Values in Training Data\")\n",
        "plt.show()\n"
      ],
      "metadata": {
        "id": "GgHWkxvamxVg"
      },
      "execution_count": null,
      "outputs": []
    },
    {
      "cell_type": "markdown",
      "source": [
        "### What did you know about your dataset?"
      ],
      "metadata": {
        "id": "H0kj-8xxnORC"
      }
    },
    {
      "cell_type": "markdown",
      "source": [
        "The dataset contains detailed records of crime incidents reported over time. Each entry in the training dataset includes information such as the type of crime (TYPE), location details (HUNDRED_BLOCK, NEIGHBOURHOOD, Latitude, Longitude), time (HOUR, MINUTE), and date (Date, YEAR, MONTH, DAY). This makes it a rich event-level time series dataset, ideal for forecasting trends in crime.\n",
        "\n",
        "The test dataset, by contrast, is aggregated by YEAR, MONTH, and TYPE, and includes the column Incident_Counts which we aim to predict. This means our training data needs to be grouped accordingly to match the structure of the test data.\n",
        "\n",
        "Exploratory Data Analysis revealed some missing values in fields like Latitude, Longitude, and Minute, and a small number of duplicate rows. These issues need to be addressed through imputation or removal. The dataset includes both categorical and numerical features, and the presence of the Date column allows for extracting time-based patterns such as seasonality or trends.\n",
        "\n",
        "In summary, the data is rich, temporal, and location-aware, providing a strong foundation for time series forecasting models aimed at predicting monthly crime counts by type.\n",
        "\n"
      ],
      "metadata": {
        "id": "gfoNAAC-nUe_"
      }
    },
    {
      "cell_type": "markdown",
      "source": [
        "## ***2. Understanding Your Variables***"
      ],
      "metadata": {
        "id": "nA9Y7ga8ng1Z"
      }
    },
    {
      "cell_type": "code",
      "source": [
        "# Dataset Columns\n",
        "print(\"Train Dataset Columns:\")\n",
        "print(train_df.columns.tolist())\n"
      ],
      "metadata": {
        "id": "j7xfkqrt5Ag5"
      },
      "execution_count": null,
      "outputs": []
    },
    {
      "cell_type": "code",
      "source": [
        "# Dataset Describe\n",
        "print(\"Statistical Summary of Numerical Features:\")\n",
        "print(train_df.describe())\n"
      ],
      "metadata": {
        "id": "DnOaZdaE5Q5t"
      },
      "execution_count": null,
      "outputs": []
    },
    {
      "cell_type": "markdown",
      "source": [
        "### Variables Description"
      ],
      "metadata": {
        "id": "PBTbrJXOngz2"
      }
    },
    {
      "cell_type": "markdown",
      "source": [
        "### 📊 Variable Descriptions\n",
        "\n",
        "| Column Name       | Description                                      |\n",
        "|-------------------|--------------------------------------------------|\n",
        "| TYPE              | Category of crime (e.g., Theft, Assault).        |\n",
        "| HUNDRED_BLOCK     | Street-level location of the incident.           |\n",
        "| NEIGHBOURHOOD     | Neighborhood where the crime occurred.           |\n",
        "| X, Y              | Raw spatial coordinates of the location.         |\n",
        "| Latitude, Longitude | Geographic coordinates for mapping.           |\n",
        "| HOUR              | Hour of the day when the incident occurred.      |\n",
        "| MINUTE            | Minute of the hour (0–59).                       |\n",
        "| YEAR              | Year when the incident happened.                 |\n",
        "| MONTH             | Month of the incident (1–12).                    |\n",
        "| DAY               | Day of the month (1–31).                         |\n",
        "| Date              | Full date of the incident (datetime format).     |\n",
        "[link text](https://)"
      ],
      "metadata": {
        "id": "aJV4KIxSnxay"
      }
    },
    {
      "cell_type": "markdown",
      "source": [
        "### Check Unique Values for each variable."
      ],
      "metadata": {
        "id": "u3PMJOP6ngxN"
      }
    },
    {
      "cell_type": "code",
      "source": [
        "# Check Unique Values for each variable.\n",
        "print(\"Unique value count per column in train_df:\\n\")\n",
        "for col in train_df.columns:\n",
        "    unique_values = train_df[col].nunique()\n",
        "    print(f\"{col}: {unique_values} unique values\")"
      ],
      "metadata": {
        "id": "zms12Yq5n-jE"
      },
      "execution_count": null,
      "outputs": []
    },
    {
      "cell_type": "markdown",
      "source": [
        "## 3. ***Data Wrangling***"
      ],
      "metadata": {
        "id": "dauF4eBmngu3"
      }
    },
    {
      "cell_type": "markdown",
      "source": [
        "### Data Wrangling Code"
      ],
      "metadata": {
        "id": "bKJF3rekwFvQ"
      }
    },
    {
      "cell_type": "code",
      "source": [
        "# Write your code to make your dataset analysis ready.\n",
        "# Make a copy of the original data\n",
        "df = train_df.copy()\n",
        "\n",
        "# 1. Drop irrelevant columns (if not useful for forecasting)\n",
        "df = df.drop(['X', 'Y'], axis=1)  # optional, if they are not meaningful\n",
        "# You can also drop 'HUNDRED_BLOCK' if it's too noisy or high-cardinality\n",
        "\n",
        "# 2. Handle missing values\n",
        "# Example: Fill missing minutes with 0 (or mode)\n",
        "df['MINUTE'].fillna(0, inplace=True)\n",
        "\n",
        "# Fill Latitude and Longitude with mean (or drop rows if preferred)\n",
        "df['Latitude'].fillna(df['Latitude'].mean(), inplace=True)\n",
        "df['Longitude'].fillna(df['Longitude'].mean(), inplace=True)\n",
        "\n",
        "# 3. Convert 'Date' to datetime (if not already done)\n",
        "df['Date'] = pd.to_datetime(df['Date'])\n",
        "\n",
        "# 4. Set Date as Index (important for time series analysis)\n",
        "df.set_index('Date', inplace=True)\n",
        "\n",
        "# 5. Sort by datetime index (good practice for time series)\n",
        "df.sort_index(inplace=True)\n",
        "\n",
        "# 6. Create new time-based features\n",
        "df['DayOfWeek'] = df.index.day_name()\n",
        "df['Week'] = df.index.isocalendar().week\n",
        "df['Quarter'] = df.index.quarter\n",
        "df['IsWeekend'] = df.index.dayofweek >= 5\n",
        "\n",
        "# 7. Check data types and confirm clean-up\n",
        "df.info()\n"
      ],
      "metadata": {
        "id": "wk-9a2fpoLcV"
      },
      "execution_count": null,
      "outputs": []
    },
    {
      "cell_type": "markdown",
      "source": [
        "### What all manipulations have you done and insights you found?"
      ],
      "metadata": {
        "id": "MSa1f5Uengrz"
      }
    },
    {
      "cell_type": "markdown",
      "source": [
        "###  Data Manipulations Done\n",
        "\n",
        "1. **Dropped Irrelevant Columns**\n",
        "   - Removed `X` and `Y` as they are raw spatial coordinates and not directly useful.\n",
        "   - Optionally considered dropping `HUNDRED_BLOCK` due to high cardinality.\n",
        "\n",
        "2. **Handled Missing Values**\n",
        "   - Filled missing `MINUTE` values with `0`.\n",
        "   - Imputed missing `Latitude` and `Longitude` using column mean values.\n",
        "\n",
        "3. **Datetime Handling**\n",
        "   - Converted the `Date` column to datetime format.\n",
        "   - Set `Date` as the index for time-based operations.\n",
        "   - Sorted the dataset by date to maintain temporal order.\n",
        "\n",
        "4. **Feature Engineering**\n",
        "   - Extracted new time-based features:\n",
        "     - `DayOfWeek`: Name of the weekday.\n",
        "     - `Week`: ISO calendar week number.\n",
        "     - `Quarter`: Calendar quarter (1–4).\n",
        "     - `IsWeekend`: Boolean flag for weekends.\n",
        "\n",
        "5. **Checked and Removed Duplicates**\n",
        "   - Identified and removed duplicate rows to ensure data integrity.\n",
        "\n",
        "6. **Validated Data Types**\n",
        "   - Ensured all columns have the correct data types using `.info()`.\n",
        "\n",
        "---\n",
        "\n",
        "###  Insights Gained\n",
        "\n",
        "1. **Time Series Structure**\n",
        "   - Data is time-stamped and well-suited for time series forecasting.\n",
        "\n",
        "2. **High Cardinality in Location Columns**\n",
        "   - `HUNDRED_BLOCK` has too many unique values, limiting its use in grouping or modeling.\n",
        "\n",
        "3. **Minor Missing Data**\n",
        "   - Missing values were minimal and handled effectively through imputation.\n",
        "\n",
        "4. **Event-Level Granularity**\n",
        "   - Each row is an individual crime report; data needs to be aggregated for monthly forecasts.\n",
        "\n",
        "5. **Feature Engineering Opportunities**\n",
        "   - Variables like `HOUR` and `DayOfWeek` can help identify patterns in crime timing.\n",
        "   - `TYPE` is the most important column for grouping and forecasting.\n",
        "\n"
      ],
      "metadata": {
        "id": "LbyXE7I1olp8"
      }
    },
    {
      "cell_type": "markdown",
      "source": [
        "## ***4. Data Vizualization, Storytelling & Experimenting with charts : Understand the relationships between variables***"
      ],
      "metadata": {
        "id": "GF8Ens_Soomf"
      }
    },
    {
      "cell_type": "markdown",
      "source": [
        "#### Chart - 1. Crime count over time"
      ],
      "metadata": {
        "id": "0wOQAZs5pc--"
      }
    },
    {
      "cell_type": "code",
      "source": [
        "# Chart - 1 visualization code\n",
        "df.resample('M').size().plot(figsize=(12, 5), title='Monthly Crime Count')\n"
      ],
      "metadata": {
        "id": "7v_ESjsspbW7"
      },
      "execution_count": null,
      "outputs": []
    },
    {
      "cell_type": "markdown",
      "source": [
        "##### 1. Why did you pick the specific chart?"
      ],
      "metadata": {
        "id": "K5QZ13OEpz2H"
      }
    },
    {
      "cell_type": "markdown",
      "source": [
        "Answer 1. A line chart was chosen because it best represents trends and fluctuations in time series data. Monthly resampling helps visualize long-term and seasonal crime patterns.\n"
      ],
      "metadata": {
        "id": "XESiWehPqBRc"
      }
    },
    {
      "cell_type": "markdown",
      "source": [
        "##### 2. What is/are the insight(s) found from the chart?"
      ],
      "metadata": {
        "id": "lQ7QKXXCp7Bj"
      }
    },
    {
      "cell_type": "markdown",
      "source": [
        "Answer 2. The chart reveals key insights like overall trends (rising/falling), seasonal spikes (e.g., during holidays), and potential anomalies (e.g., sudden drops). These insights inform both the EDA and the ML forecasting phase.\n"
      ],
      "metadata": {
        "id": "C_j1G7yiqdRP"
      }
    },
    {
      "cell_type": "markdown",
      "source": [
        "##### 3. Will the gained insights help creating a positive business impact?\n",
        "Are there any insights that lead to negative growth? Justify with specific reason."
      ],
      "metadata": {
        "id": "448CDAPjqfQr"
      }
    },
    {
      "cell_type": "markdown",
      "source": [
        "Answer 3. These insights directly support strategic planning. They help optimize police resource allocation, identify high-risk periods, and improve model accuracy. However, a rising trend or unmanaged seasonal spikes can reflect negative growth and indicate the need for urgent policy or operational changes.\n"
      ],
      "metadata": {
        "id": "3cspy4FjqxJW"
      }
    },
    {
      "cell_type": "markdown",
      "source": [
        "#### Chart - 2 Crime count by type\n"
      ],
      "metadata": {
        "id": "KSlN3yHqYklG"
      }
    },
    {
      "cell_type": "code",
      "source": [
        "# Chart - 2 visualization code\n",
        "df['TYPE'].value_counts().plot(kind='bar', figsize=(10, 5), title='Total Crimes by Type')\n"
      ],
      "metadata": {
        "id": "R4YgtaqtYklH"
      },
      "execution_count": null,
      "outputs": []
    },
    {
      "cell_type": "markdown",
      "source": [
        "##### 1. Why did you pick the specific chart?"
      ],
      "metadata": {
        "id": "t6dVpIINYklI"
      }
    },
    {
      "cell_type": "markdown",
      "source": [
        "Answer 1. A bar chart was selected to compare the frequency of different crime types. It's the most effective visualization for categorical distribution.\n"
      ],
      "metadata": {
        "id": "5aaW0BYyYklI"
      }
    },
    {
      "cell_type": "markdown",
      "source": [
        "##### 2. What is/are the insight(s) found from the chart?"
      ],
      "metadata": {
        "id": "ijmpgYnKYklI"
      }
    },
    {
      "cell_type": "markdown",
      "source": [
        "Answer 2. The chart shows which crime types are most common (e.g., Theft, Mischief) and which are rare. This helps prioritize attention for prevention and forecasting.\n"
      ],
      "metadata": {
        "id": "PSx9atu2YklI"
      }
    },
    {
      "cell_type": "markdown",
      "source": [
        "##### 3. Will the gained insights help creating a positive business impact?\n",
        "Are there any insights that lead to negative growth? Justify with specific reason."
      ],
      "metadata": {
        "id": "-JiQyfWJYklI"
      }
    },
    {
      "cell_type": "markdown",
      "source": [
        "Answer 3. These insights can guide police departments in resource allocation and policy-making. High volumes in violent crime categories may indicate a negative social trend, requiring immediate intervention.\n"
      ],
      "metadata": {
        "id": "BcBbebzrYklV"
      }
    },
    {
      "cell_type": "markdown",
      "source": [
        "#### Chart - 3. Crime count by hour of day"
      ],
      "metadata": {
        "id": "EM7whBJCYoAo"
      }
    },
    {
      "cell_type": "code",
      "source": [
        "# Chart - 3 visualization code\n",
        "import matplotlib.pyplot as plt\n",
        "import seaborn as sns\n",
        "\n",
        "# Step 1: Reset index to avoid reindex errors\n",
        "df_plot = df.reset_index()\n",
        "\n",
        "# Step 2: Ensure 'HOUR' column is numeric (in case of import issues)\n",
        "df_plot['HOUR'] = pd.to_numeric(df_plot['HOUR'], errors='coerce')\n",
        "\n",
        "# Step 3: Drop any rows with missing or invalid 'HOUR'\n",
        "df_plot = df_plot.dropna(subset=['HOUR'])\n",
        "\n",
        "# Step 4: Convert hour to int (optional, for sorting)\n",
        "df_plot['HOUR'] = df_plot['HOUR'].astype(int)\n",
        "\n",
        "# Step 5: Sort hours for correct axis order\n",
        "hour_order = list(range(24))\n",
        "\n",
        "# Step 6: Plot the count of crimes by hour\n",
        "plt.figure(figsize=(12, 6))\n",
        "sns.countplot(x='HOUR', data=df_plot, order=hour_order, palette='viridis')\n",
        "plt.title('Crime Distribution by Hour of Day')\n",
        "plt.xlabel('Hour (0 = Midnight, 23 = 11 PM)')\n",
        "plt.ylabel('Crime Count')\n",
        "plt.grid(axis='y')\n",
        "plt.show()\n",
        "\n"
      ],
      "metadata": {
        "id": "t6GMdE67YoAp"
      },
      "execution_count": null,
      "outputs": []
    },
    {
      "cell_type": "markdown",
      "source": [
        "##### 1. Why did you pick the specific chart?"
      ],
      "metadata": {
        "id": "fge-S5ZAYoAp"
      }
    },
    {
      "cell_type": "markdown",
      "source": [
        "Answer 1. A countplot was chosen to show how crime frequency varies by hour of the day — ideal for visualizing discrete time-based patterns.\n"
      ],
      "metadata": {
        "id": "5dBItgRVYoAp"
      }
    },
    {
      "cell_type": "markdown",
      "source": [
        "##### 2. What is/are the insight(s) found from the chart?"
      ],
      "metadata": {
        "id": "85gYPyotYoAp"
      }
    },
    {
      "cell_type": "markdown",
      "source": [
        "Answer 2. The plot highlights peak crime hours, showing whether incidents are concentrated during late nights, early mornings, or business hours.\n"
      ],
      "metadata": {
        "id": "4jstXR6OYoAp"
      }
    },
    {
      "cell_type": "markdown",
      "source": [
        "##### 3. Will the gained insights help creating a positive business impact?\n",
        "Are there any insights that lead to negative growth? Justify with specific reason."
      ],
      "metadata": {
        "id": "RoGjAbkUYoAp"
      }
    },
    {
      "cell_type": "markdown",
      "source": [
        "Answer 3. This insight supports time-based resource allocation (e.g., night patrols) and enhances model features. Consistently high late-night crime may indicate areas of negative growth requiring targeted intervention.\n"
      ],
      "metadata": {
        "id": "zfJ8IqMcYoAp"
      }
    },
    {
      "cell_type": "markdown",
      "source": [
        "#### Chart - 4. Crime by day of week"
      ],
      "metadata": {
        "id": "4Of9eVA-YrdM"
      }
    },
    {
      "cell_type": "code",
      "source": [
        "# Chart - 4 visualization code\n",
        "sns.countplot(x='DayOfWeek', data=df, order=['Monday','Tuesday','Wednesday','Thursday','Friday','Saturday','Sunday'])\n",
        "plt.title('Crime Count by Day of the Week')\n"
      ],
      "metadata": {
        "id": "irlUoxc8YrdO"
      },
      "execution_count": null,
      "outputs": []
    },
    {
      "cell_type": "markdown",
      "source": [
        "##### 1. Why did you pick the specific chart?"
      ],
      "metadata": {
        "id": "iky9q4vBYrdO"
      }
    },
    {
      "cell_type": "markdown",
      "source": [
        "Answer 1. A countplot was used to compare crime frequency across weekdays — best for identifying behavioral or routine-based crime patterns.\n"
      ],
      "metadata": {
        "id": "aJRCwT6DYrdO"
      }
    },
    {
      "cell_type": "markdown",
      "source": [
        "##### 2. What is/are the insight(s) found from the chart?"
      ],
      "metadata": {
        "id": "F6T5p64dYrdO"
      }
    },
    {
      "cell_type": "markdown",
      "source": [
        "Answer 2. The plot reveals which days have higher or lower crime activity. Weekends may show spikes due to nightlife, while weekdays may reflect work-related incidents.\n"
      ],
      "metadata": {
        "id": "Xx8WAJvtYrdO"
      }
    },
    {
      "cell_type": "markdown",
      "source": [
        "##### 3. Will the gained insights help creating a positive business impact?\n",
        "Are there any insights that lead to negative growth? Justify with specific reason."
      ],
      "metadata": {
        "id": "y-Ehk30pYrdP"
      }
    },
    {
      "cell_type": "markdown",
      "source": [
        "Answer 3. Insights help optimize staffing and patrol timing. Regular weekend spikes suggest need for targeted planning. No negative trend if patterns align with expectations.\n"
      ],
      "metadata": {
        "id": "jLNxxz7MYrdP"
      }
    },
    {
      "cell_type": "markdown",
      "source": [
        "#### Chart - 5.Heatmap - Crimes by hour vs day"
      ],
      "metadata": {
        "id": "bamQiAODYuh1"
      }
    },
    {
      "cell_type": "code",
      "source": [
        "# Chart - 5 visualization code\n",
        "heatmap_data = df.pivot_table(index='HOUR', columns='DayOfWeek', aggfunc='size', fill_value=0)\n",
        "sns.heatmap(heatmap_data, cmap='Reds')\n",
        "plt.title('Heatmap of Crimes by Hour and Day of Week')\n"
      ],
      "metadata": {
        "id": "TIJwrbroYuh3"
      },
      "execution_count": null,
      "outputs": []
    },
    {
      "cell_type": "markdown",
      "source": [
        "##### 1. Why did you pick the specific chart?"
      ],
      "metadata": {
        "id": "QHF8YVU7Yuh3"
      }
    },
    {
      "cell_type": "markdown",
      "source": [
        "Answer 1. A heatmap was chosen to show how crime frequency varies by hour and weekday — best for spotting time-day interaction patterns.\n"
      ],
      "metadata": {
        "id": "dcxuIMRPYuh3"
      }
    },
    {
      "cell_type": "markdown",
      "source": [
        "##### 2. What is/are the insight(s) found from the chart?"
      ],
      "metadata": {
        "id": "GwzvFGzlYuh3"
      }
    },
    {
      "cell_type": "markdown",
      "source": [
        "Answer 2. It reveals high-crime windows (e.g., Sunday nights, weekday evenings). Peak blocks indicate when and where crimes cluster.\n"
      ],
      "metadata": {
        "id": "uyqkiB8YYuh3"
      }
    },
    {
      "cell_type": "markdown",
      "source": [
        "##### 3. Will the gained insights help creating a positive business impact?\n",
        "Are there any insights that lead to negative growth? Justify with specific reason."
      ],
      "metadata": {
        "id": "qYpmQ266Yuh3"
      }
    },
    {
      "cell_type": "markdown",
      "source": [
        "Answer 3. These insights enable targeted time-slot policing. If unaddressed, repeated late-night crime peaks could negatively impact safety perception.\n"
      ],
      "metadata": {
        "id": "_WtzZ_hCYuh4"
      }
    },
    {
      "cell_type": "markdown",
      "source": [
        "#### Chart - 6.Monthly trend for each crime type"
      ],
      "metadata": {
        "id": "OH-pJp9IphqM"
      }
    },
    {
      "cell_type": "code",
      "source": [
        "# Chart - 6 visualization code\n",
        "monthly_type = df.groupby([df.index.to_period('M'), 'TYPE']).size().unstack()\n",
        "monthly_type.plot(figsize=(15, 6), title='Monthly Crime Trends by Type')\n"
      ],
      "metadata": {
        "id": "kuRf4wtuphqN"
      },
      "execution_count": null,
      "outputs": []
    },
    {
      "cell_type": "markdown",
      "source": [
        "##### 1. Why did you pick the specific chart?"
      ],
      "metadata": {
        "id": "bbFf2-_FphqN"
      }
    },
    {
      "cell_type": "markdown",
      "source": [
        "Answer 1. A multi-line time series plot was used to track monthly trends for each crime type — ideal for comparing category-specific patterns over time.\n"
      ],
      "metadata": {
        "id": "loh7H2nzphqN"
      }
    },
    {
      "cell_type": "markdown",
      "source": [
        "##### 2. What is/are the insight(s) found from the chart?"
      ],
      "metadata": {
        "id": "_ouA3fa0phqN"
      }
    },
    {
      "cell_type": "markdown",
      "source": [
        "Answer 2. The chart highlights seasonal surges and long-term shifts in different crime types, showing which crimes rise or fall.\n"
      ],
      "metadata": {
        "id": "VECbqPI7phqN"
      }
    },
    {
      "cell_type": "markdown",
      "source": [
        "##### 3. Will the gained insights help creating a positive business impact?\n",
        "Are there any insights that lead to negative growth? Justify with specific reason."
      ],
      "metadata": {
        "id": "Seke61FWphqN"
      }
    },
    {
      "cell_type": "markdown",
      "source": [
        "\n",
        "Answer 3. This helps prioritize prevention strategies per crime type. A consistently rising type may require urgent attention to prevent long-term negative impact.\n"
      ],
      "metadata": {
        "id": "DW4_bGpfphqN"
      }
    },
    {
      "cell_type": "markdown",
      "source": [
        "#### Chart - 7. Box Plot:Hourly crime spread by type"
      ],
      "metadata": {
        "id": "PIIx-8_IphqN"
      }
    },
    {
      "cell_type": "code",
      "source": [
        "# Chart - 7 visualization code\n",
        "plt.figure(figsize=(14, 6))\n",
        "sns.boxplot(x='TYPE', y='HOUR', data=df.reset_index())\n",
        "plt.xticks(rotation=90)\n",
        "plt.title('Hour Distribution by Crime Type')\n",
        "plt.xlabel('Crime Type')\n",
        "plt.ylabel('Hour of the Day')\n",
        "plt.grid(axis='y')\n",
        "plt.show()\n",
        "\n"
      ],
      "metadata": {
        "id": "lqAIGUfyphqO"
      },
      "execution_count": null,
      "outputs": []
    },
    {
      "cell_type": "markdown",
      "source": [
        "##### 1. Why did you pick the specific chart?"
      ],
      "metadata": {
        "id": "t27r6nlMphqO"
      }
    },
    {
      "cell_type": "markdown",
      "source": [
        "Answer 1. A boxplot was used to show how crime hours are distributed for each type — ideal for comparing spread and central tendency across categories.\n"
      ],
      "metadata": {
        "id": "iv6ro40sphqO"
      }
    },
    {
      "cell_type": "markdown",
      "source": [
        "##### 2. What is/are the insight(s) found from the chart?"
      ],
      "metadata": {
        "id": "r2jJGEOYphqO"
      }
    },
    {
      "cell_type": "markdown",
      "source": [
        "Answer 2. It reveals which crimes cluster around specific hours (e.g., night vs day), and which have wider or more unpredictable time ranges.\n"
      ],
      "metadata": {
        "id": "Po6ZPi4hphqO"
      }
    },
    {
      "cell_type": "markdown",
      "source": [
        "##### 3. Will the gained insights help creating a positive business impact?\n",
        "Are there any insights that lead to negative growth? Justify with specific reason."
      ],
      "metadata": {
        "id": "b0JNsNcRphqO"
      }
    },
    {
      "cell_type": "markdown",
      "source": [
        "Answer 3. These insights guide time-targeted prevention per crime type. Broad hour spreads may indicate unpredictable patterns, needing flexible patrol strategies.\n"
      ],
      "metadata": {
        "id": "xvSq8iUTphqO"
      }
    },
    {
      "cell_type": "markdown",
      "source": [
        "#### Chart - 8 Crimes By neighbourhood(top 10)"
      ],
      "metadata": {
        "id": "BZR9WyysphqO"
      }
    },
    {
      "cell_type": "code",
      "source": [
        "# Chart - 8 visualization code\n",
        "df['NEIGHBOURHOOD'].value_counts().head(10).plot(kind='bar', title='Top 10 Neighbourhoods by Crime')\n"
      ],
      "metadata": {
        "id": "TdPTWpAVphqO"
      },
      "execution_count": null,
      "outputs": []
    },
    {
      "cell_type": "markdown",
      "source": [
        "##### 1. Why did you pick the specific chart?"
      ],
      "metadata": {
        "id": "jj7wYXLtphqO"
      }
    },
    {
      "cell_type": "markdown",
      "source": [
        "Answer 1. A bar chart was used to highlight the top 10 neighbourhoods by crime count — best for quick comparison of spatial hotspots.\n"
      ],
      "metadata": {
        "id": "Ob8u6rCTphqO"
      }
    },
    {
      "cell_type": "markdown",
      "source": [
        "##### 2. What is/are the insight(s) found from the chart?"
      ],
      "metadata": {
        "id": "eZrbJ2SmphqO"
      }
    },
    {
      "cell_type": "markdown",
      "source": [
        "Answer 2. It identifies areas with the highest crime density, pointing to potential hotspots needing targeted interventions.\n"
      ],
      "metadata": {
        "id": "mZtgC_hjphqO"
      }
    },
    {
      "cell_type": "markdown",
      "source": [
        "##### 3. Will the gained insights help creating a positive business impact?\n",
        "Are there any insights that lead to negative growth? Justify with specific reason."
      ],
      "metadata": {
        "id": "rFu4xreNphqO"
      }
    },
    {
      "cell_type": "markdown",
      "source": [
        "Answer 3. These insights help focus security resources on high-risk areas. Persistent concentration in certain zones may signal deeper social or infrastructure issues needing attention.\n"
      ],
      "metadata": {
        "id": "ey_0qi68phqO"
      }
    },
    {
      "cell_type": "markdown",
      "source": [
        "#### Chart - 9. Crime Heatmap = Missing values\n"
      ],
      "metadata": {
        "id": "YJ55k-q6phqO"
      }
    },
    {
      "cell_type": "code",
      "source": [
        "# Chart - 9 visualization code\n",
        "sns.heatmap(df.isnull(), cbar=False, cmap='Reds')\n",
        "plt.title('Missing Values Heatmap')\n"
      ],
      "metadata": {
        "id": "B2aS4O1ophqO"
      },
      "execution_count": null,
      "outputs": []
    },
    {
      "cell_type": "markdown",
      "source": [
        "##### 1. Why did you pick the specific chart?"
      ],
      "metadata": {
        "id": "gCFgpxoyphqP"
      }
    },
    {
      "cell_type": "markdown",
      "source": [
        "Answer 1. A heatmap was used to detect missing data patterns across the dataset — helpful for spotting data quality issues.\n"
      ],
      "metadata": {
        "id": "TVxDimi2phqP"
      }
    },
    {
      "cell_type": "markdown",
      "source": [
        "##### 2. What is/are the insight(s) found from the chart?"
      ],
      "metadata": {
        "id": "OVtJsKN_phqQ"
      }
    },
    {
      "cell_type": "markdown",
      "source": [
        "Answer 2. It visually highlights which columns have missing values and whether they follow any row-wise or column-wise patterns.\n"
      ],
      "metadata": {
        "id": "ngGi97qjphqQ"
      }
    },
    {
      "cell_type": "markdown",
      "source": [
        "##### 3. Will the gained insights help creating a positive business impact?\n",
        "Are there any insights that lead to negative growth? Justify with specific reason."
      ],
      "metadata": {
        "id": "lssrdh5qphqQ"
      }
    },
    {
      "cell_type": "markdown",
      "source": [
        "Answer 3. These insights support decisions on imputation or column removal. If missingness is high in key features, it could hinder model performance or require alternate strategies.\n"
      ],
      "metadata": {
        "id": "tBpY5ekJphqQ"
      }
    },
    {
      "cell_type": "markdown",
      "source": [
        "#### Chart - 10. Rolling mean of crime counts"
      ],
      "metadata": {
        "id": "U2RJ9gkRphqQ"
      }
    },
    {
      "cell_type": "code",
      "source": [
        "# Chart - 10 visualization code\n",
        "df.resample('M').size().rolling(window=6).mean().plot(figsize=(12, 5), title='6-Month Rolling Average of Crime')\n"
      ],
      "metadata": {
        "id": "GM7a4YP4phqQ"
      },
      "execution_count": null,
      "outputs": []
    },
    {
      "cell_type": "markdown",
      "source": [
        "##### 1. Why did you pick the specific chart?"
      ],
      "metadata": {
        "id": "1M8mcRywphqQ"
      }
    },
    {
      "cell_type": "markdown",
      "source": [
        "Answer 1. A line chart with a 6-month rolling average was used to smooth monthly crime trends — ideal for revealing long-term patterns.\n"
      ],
      "metadata": {
        "id": "8agQvks0phqQ"
      }
    },
    {
      "cell_type": "markdown",
      "source": [
        "##### 2. What is/are the insight(s) found from the chart?"
      ],
      "metadata": {
        "id": "tgIPom80phqQ"
      }
    },
    {
      "cell_type": "markdown",
      "source": [
        "Answer 2. The graph reduces noise and makes it easier to detect rising or falling crime rates over time.\n"
      ],
      "metadata": {
        "id": "Qp13pnNzphqQ"
      }
    },
    {
      "cell_type": "markdown",
      "source": [
        "##### 3. Will the gained insights help creating a positive business impact?\n",
        "Are there any insights that lead to negative growth? Justify with specific reason."
      ],
      "metadata": {
        "id": "JMzcOPDDphqR"
      }
    },
    {
      "cell_type": "markdown",
      "source": [
        "Answer 3. These trends guide strategic forecasting and resource planning. A sustained rise in the rolling average signals potential negative social conditions needing proactive intervention.\n"
      ],
      "metadata": {
        "id": "R4Ka1PC2phqR"
      }
    },
    {
      "cell_type": "markdown",
      "source": [
        "#### Chart - 11. Pie chart: Crime proportion by type"
      ],
      "metadata": {
        "id": "x-EpHcCOp1ci"
      }
    },
    {
      "cell_type": "code",
      "source": [
        "# Chart - 11 visualization code\n",
        "df['TYPE'].value_counts().plot.pie(autopct='%1.1f%%', figsize=(8, 8), title='Crime Type Proportion')\n"
      ],
      "metadata": {
        "id": "mAQTIvtqp1cj"
      },
      "execution_count": null,
      "outputs": []
    },
    {
      "cell_type": "markdown",
      "source": [
        "##### 1. Why did you pick the specific chart?"
      ],
      "metadata": {
        "id": "X_VqEhTip1ck"
      }
    },
    {
      "cell_type": "markdown",
      "source": [
        "Answer 1. A pie chart was used to show the proportional distribution of crime types — effective for understanding category dominance.\n"
      ],
      "metadata": {
        "id": "-vsMzt_np1ck"
      }
    },
    {
      "cell_type": "markdown",
      "source": [
        "##### 2. What is/are the insight(s) found from the chart?"
      ],
      "metadata": {
        "id": "8zGJKyg5p1ck"
      }
    },
    {
      "cell_type": "markdown",
      "source": [
        "Answer 2. It reveals which crime types make up the largest share, highlighting the most common threats.\n"
      ],
      "metadata": {
        "id": "ZYdMsrqVp1ck"
      }
    },
    {
      "cell_type": "markdown",
      "source": [
        "##### 3. Will the gained insights help creating a positive business impact?\n",
        "Are there any insights that lead to negative growth? Justify with specific reason."
      ],
      "metadata": {
        "id": "PVzmfK_Ep1ck"
      }
    },
    {
      "cell_type": "markdown",
      "source": [
        "Answer 3. These proportions help prioritize resources and model focus. Overdependence on one dominant crime type might skew attention, leading to oversight of emerging risks.\n"
      ],
      "metadata": {
        "id": "druuKYZpp1ck"
      }
    },
    {
      "cell_type": "markdown",
      "source": [
        "\n",
        "#### Chart - 12. Crime density plot(Hour)"
      ],
      "metadata": {
        "id": "n3dbpmDWp1ck"
      }
    },
    {
      "cell_type": "code",
      "source": [
        "# Chart - 12 visualization code\n",
        "sns.kdeplot(df['HOUR'], shade=True)\n",
        "plt.title('Crime Density over Hours')\n"
      ],
      "metadata": {
        "id": "bwevp1tKp1ck"
      },
      "execution_count": null,
      "outputs": []
    },
    {
      "cell_type": "markdown",
      "source": [
        "##### 1. Why did you pick the specific chart?"
      ],
      "metadata": {
        "id": "ylSl6qgtp1ck"
      }
    },
    {
      "cell_type": "markdown",
      "source": [
        "Answer 1. A KDE plot was used to show the smoothed distribution of crimes by hour — ideal for identifying peak activity times.\n"
      ],
      "metadata": {
        "id": "m2xqNkiQp1ck"
      }
    },
    {
      "cell_type": "markdown",
      "source": [
        "##### 2. What is/are the insight(s) found from the chart?"
      ],
      "metadata": {
        "id": "ZWILFDl5p1ck"
      }
    },
    {
      "cell_type": "markdown",
      "source": [
        "Answer 2. It highlights the most crime-active periods (e.g., night hours or early mornings), showing underlying frequency trends.\n"
      ],
      "metadata": {
        "id": "x-lUsV2mp1ck"
      }
    },
    {
      "cell_type": "markdown",
      "source": [
        "##### 3. Will the gained insights help creating a positive business impact?\n",
        "Are there any insights that lead to negative growth? Justify with specific reason."
      ],
      "metadata": {
        "id": "M7G43BXep1ck"
      }
    },
    {
      "cell_type": "markdown",
      "source": [
        "Answer 3. This aids in time-targeted deployment and scheduling. Ignoring consistent late-night peaks could lead to gaps in law enforcement coverage.\n"
      ],
      "metadata": {
        "id": "5wwDJXsLp1cl"
      }
    },
    {
      "cell_type": "markdown",
      "source": [
        "#### Chart - 13. Correlation Heatmap"
      ],
      "metadata": {
        "id": "Ag9LCva-p1cl"
      }
    },
    {
      "cell_type": "code",
      "source": [
        "# Chart - 13 visualization code\n",
        "import matplotlib.pyplot as plt\n",
        "import seaborn as sns\n",
        "\n",
        "# Set up a larger figure size\n",
        "plt.figure(figsize=(12, 8))  # Adjust size as needed (width, height)\n",
        "\n",
        "# Compute correlation matrix for numeric columns\n",
        "corr_matrix = df.select_dtypes(include='number').corr()\n",
        "\n",
        "# Plot the heatmap with better layout\n",
        "sns.heatmap(corr_matrix,\n",
        "            annot=True,\n",
        "            fmt=\".2f\",         # Limit to 2 decimal places\n",
        "            cmap='coolwarm',\n",
        "            square=True,       # Make cells square\n",
        "            cbar_kws={\"shrink\": 0.75},  # Shrink color bar\n",
        "            annot_kws={\"size\": 10})     # Smaller annotation text\n",
        "\n",
        "plt.title('Correlation Between Numeric Features', fontsize=14)\n",
        "plt.xticks(rotation=45, ha='right')   # Rotate x-labels for readability\n",
        "plt.yticks(rotation=0)\n",
        "plt.tight_layout()  # Prevent clipping of labels\n",
        "plt.show()\n",
        "\n"
      ],
      "metadata": {
        "id": "EUfxeq9-p1cl"
      },
      "execution_count": null,
      "outputs": []
    },
    {
      "cell_type": "markdown",
      "source": [
        "##### 1. Why did you pick the specific chart?"
      ],
      "metadata": {
        "id": "E6MkPsBcp1cl"
      }
    },
    {
      "cell_type": "markdown",
      "source": [
        "Answer 1. A correlation heatmap was used to explore relationships between numeric features — best for identifying multicollinearity or linear dependencies.\n"
      ],
      "metadata": {
        "id": "V22bRsFWp1cl"
      }
    },
    {
      "cell_type": "markdown",
      "source": [
        "##### 2. What is/are the insight(s) found from the chart?"
      ],
      "metadata": {
        "id": "2cELzS2fp1cl"
      }
    },
    {
      "cell_type": "markdown",
      "source": [
        "Answer 2. It reveals how features like HOUR, MINUTE, and LOCATION (Latitude/Longitude) relate. Strong positive or negative values indicate strong influence or redundancy.\n"
      ],
      "metadata": {
        "id": "ozQPc2_Ip1cl"
      }
    },
    {
      "cell_type": "markdown",
      "source": [
        "##### 3. Will the gained insights help creating a positive business impact?\n",
        "Are there any insights that lead to negative growth? Justify with specific reason."
      ],
      "metadata": {
        "id": "3MPXvC8up1cl"
      }
    },
    {
      "cell_type": "markdown",
      "source": [
        "Answer 3. These insights support better feature engineering. Highly correlated variables may introduce noise or overfitting in models if not handled properly.\n"
      ],
      "metadata": {
        "id": "GL8l1tdLp1cl"
      }
    },
    {
      "cell_type": "markdown",
      "source": [
        "#### Chart - 14 - Yearly Crime count comparison"
      ],
      "metadata": {
        "id": "NC_X3p0fY2L0"
      }
    },
    {
      "cell_type": "code",
      "source": [
        "\n",
        "df.groupby('YEAR').size().plot(kind='bar', title='Total Crimes Per Year')\n"
      ],
      "metadata": {
        "id": "xyC9zolEZNRQ"
      },
      "execution_count": null,
      "outputs": []
    },
    {
      "cell_type": "markdown",
      "source": [
        "##### 1. Why did you pick the specific chart?"
      ],
      "metadata": {
        "id": "UV0SzAkaZNRQ"
      }
    },
    {
      "cell_type": "markdown",
      "source": [
        "Answer 1. A bar chart was used to visualize annual crime totals — ideal for identifying year-over-year trends in activity.\n"
      ],
      "metadata": {
        "id": "DVPuT8LYZNRQ"
      }
    },
    {
      "cell_type": "markdown",
      "source": [
        "##### 2. What is/are the insight(s) found from the chart?"
      ],
      "metadata": {
        "id": "YPEH6qLeZNRQ"
      }
    },
    {
      "cell_type": "markdown",
      "source": [
        "Answer 2. It reveals whether crime is increasing, decreasing, or fluctuating across years. Peaks or drops may relate to events, policies, or external factors.\n"
      ],
      "metadata": {
        "id": "bfSqtnDqZNRR"
      }
    },
    {
      "cell_type": "markdown",
      "source": [
        "#### Chart - 15 - WeekDay vs WeekEnd"
      ],
      "metadata": {
        "id": "q29F0dvdveiT"
      }
    },
    {
      "cell_type": "code",
      "source": [
        "\n",
        "sns.countplot(x='IsWeekend', data=df)\n",
        "plt.xticks([0, 1], ['Weekday', 'Weekend'])\n",
        "plt.title('Crime Distribution: Weekday vs Weekend')\n"
      ],
      "metadata": {
        "id": "o58-TEIhveiU"
      },
      "execution_count": null,
      "outputs": []
    },
    {
      "cell_type": "markdown",
      "source": [
        "##### 1. Why did you pick the specific chart?"
      ],
      "metadata": {
        "id": "EXh0U9oCveiU"
      }
    },
    {
      "cell_type": "markdown",
      "source": [
        "Answer 1. A count plot was chosen to compare crime frequency on weekdays vs weekends — simple and effective for binary categorical data.\n"
      ],
      "metadata": {
        "id": "eMmPjTByveiU"
      }
    },
    {
      "cell_type": "markdown",
      "source": [
        "##### 2. What is/are the insight(s) found from the chart?"
      ],
      "metadata": {
        "id": "22aHeOlLveiV"
      }
    },
    {
      "cell_type": "markdown",
      "source": [
        "Answer 2. The plot shows whether crimes are more likely to occur on weekends or weekdays, highlighting behavioral or social patterns.\n"
      ],
      "metadata": {
        "id": "uPQ8RGwHveiV"
      }
    },
    {
      "cell_type": "markdown",
      "source": [
        "#### Chart-16. Histogram of Latitude and Longitude"
      ],
      "metadata": {
        "id": "qZ6Ktc5MprZD"
      }
    },
    {
      "cell_type": "code",
      "source": [
        "df['Latitude'].plot.hist(bins=50, alpha=0.5, label='Latitude')\n",
        "df['Longitude'].plot.hist(bins=50, alpha=0.5, label='Longitude')\n",
        "plt.legend()\n",
        "plt.title('Location Distribution')\n"
      ],
      "metadata": {
        "id": "7NEJl4Ncpr_Q"
      },
      "execution_count": null,
      "outputs": []
    },
    {
      "cell_type": "markdown",
      "source": [
        "#### Chart-17. Top crime types by neighbour"
      ],
      "metadata": {
        "id": "VCK8pU13pst8"
      }
    },
    {
      "cell_type": "code",
      "source": [
        "import matplotlib.pyplot as plt\n",
        "import seaborn as sns\n",
        "\n",
        "# Step 1: Get top 5 neighbourhoods with most crimes\n",
        "top_neigh = df['NEIGHBOURHOOD'].value_counts().head(5).index\n",
        "\n",
        "# Step 2: Filter and plot\n",
        "plt.figure(figsize=(14, 7))  # Wider and taller for better visibility\n",
        "\n",
        "sns.countplot(\n",
        "    data=df[df['NEIGHBOURHOOD'].isin(top_neigh)],\n",
        "    x='NEIGHBOURHOOD',\n",
        "    hue='TYPE',\n",
        "    palette='Set2'\n",
        ")\n",
        "\n",
        "plt.title('Top 5 Neighbourhoods by Crime Type', fontsize=16)\n",
        "plt.xlabel('Neighbourhood', fontsize=12)\n",
        "plt.ylabel('Crime Count', fontsize=12)\n",
        "plt.xticks(rotation=45)\n",
        "plt.legend(title='Crime Type', bbox_to_anchor=(1.05, 1), loc='upper left')\n",
        "plt.tight_layout()\n",
        "plt.grid(axis='y')\n",
        "plt.show()\n",
        "\n"
      ],
      "metadata": {
        "id": "0bSON4Taps_b"
      },
      "execution_count": null,
      "outputs": []
    },
    {
      "cell_type": "markdown",
      "source": [
        "#### Chart-18. Swarm Plot:Type vs Hour"
      ],
      "metadata": {
        "id": "4-jL7o6dpt5z"
      }
    },
    {
      "cell_type": "code",
      "source": [
        "import matplotlib.pyplot as plt\n",
        "import seaborn as sns\n",
        "\n",
        "# Step 1: Reset index to avoid duplicate index issue\n",
        "df_plot = df.reset_index()\n",
        "\n",
        "# Step 2: Optional - remove missing or weird values\n",
        "df_plot = df_plot.dropna(subset=['TYPE', 'HOUR'])  # make sure these columns are valid\n",
        "\n",
        "# Step 3: Ensure HOUR is numeric and integer\n",
        "df_plot['HOUR'] = pd.to_numeric(df_plot['HOUR'], errors='coerce').astype(int)\n",
        "\n",
        "# Step 4: Take a random sample (Swarmplot is slow on large datasets)\n",
        "df_sample = df_plot.sample(1000, random_state=42)\n",
        "\n",
        "# Step 5: Plot\n",
        "plt.figure(figsize=(14, 6))\n",
        "sns.swarmplot(x='TYPE', y='HOUR', data=df_sample)\n",
        "plt.xticks(rotation=90)\n",
        "plt.title('Crime Type vs Hour of Day')\n",
        "plt.xlabel('Crime Type')\n",
        "plt.ylabel('Hour (0–23)')\n",
        "plt.grid(axis='y')\n",
        "plt.tight_layout()\n",
        "plt.show()\n",
        "\n"
      ],
      "metadata": {
        "id": "p_v1sfLDpuH7"
      },
      "execution_count": null,
      "outputs": []
    },
    {
      "cell_type": "markdown",
      "source": [
        "#### Chart-19. Lag Plot: Crime Series Dependence"
      ],
      "metadata": {
        "id": "oRSpaQGBpuZE"
      }
    },
    {
      "cell_type": "code",
      "source": [
        "from pandas.plotting import lag_plot\n",
        "lag_plot(df.resample('M').size())\n",
        "plt.title('Lag Plot of Monthly Crime Counts')\n"
      ],
      "metadata": {
        "id": "Q6kPH69Upund"
      },
      "execution_count": null,
      "outputs": []
    },
    {
      "cell_type": "markdown",
      "source": [
        "#### Chart-20. Autocorrelation plot"
      ],
      "metadata": {
        "id": "aIWyjngypu4h"
      }
    },
    {
      "cell_type": "code",
      "source": [
        "from pandas.plotting import autocorrelation_plot\n",
        "autocorrelation_plot(df.resample('M').size())\n",
        "plt.title('Autocorrelation of Monthly Crime')\n",
        "\n"
      ],
      "metadata": {
        "id": "OzHQBKREpvGk"
      },
      "execution_count": null,
      "outputs": []
    },
    {
      "cell_type": "markdown",
      "source": [
        "## **5. Solution to Business Objective**"
      ],
      "metadata": {
        "id": "JcMwzZxoAimU"
      }
    },
    {
      "cell_type": "markdown",
      "source": [
        "#### What do you suggest the client to achieve Business Objective ?\n",
        "Explain Briefly."
      ],
      "metadata": {
        "id": "8G2x9gOozGDZ"
      }
    },
    {
      "cell_type": "markdown",
      "source": [
        "Answer To help the client achieve their business objective of improving public safety and operational efficiency, it is recommended to implement a data-driven strategy using the insights gained from exploratory data analysis and forecasting. By leveraging time series models to predict monthly crime trends by type, the client can proactively plan police deployment and allocate resources more effectively. Identifying peak crime periods—such as specific hours, days, or months—as well as high-risk neighborhoods allows for targeted interventions and smarter patrol scheduling. Additionally, integrating these predictions into a real-time monitoring system can enable timely alerts and preventive action. These insights can also guide public awareness campaigns, informing citizens about safety during high-risk periods. By continuously updating the system with new crime data, the model remains adaptive and relevant, ensuring long-term impact and alignment with changing crime patterns. This approach ultimately enhances safety, optimizes resource usage, and builds community trust."
      ],
      "metadata": {
        "id": "pASKb0qOza21"
      }
    },
    {
      "cell_type": "markdown",
      "source": [
        "# **Conclusion**"
      ],
      "metadata": {
        "id": "gCX9965dhzqZ"
      }
    },
    {
      "cell_type": "markdown",
      "source": [
        "In conclusion, this analysis has provided valuable insights into crime patterns based on time, type, and location. By using data visualization and predictive modeling, we can identify high-risk periods and areas, helping law enforcement agencies plan more effectively. With the support of this data-driven approach, the client can make informed decisions, improve public safety, and allocate resources efficiently. Continuous monitoring and updating of the model will ensure it remains accurate and relevant over time, contributing to long-term safety and strategic planning"
      ],
      "metadata": {
        "id": "Fjb1IsQkh3yE"
      }
    },
    {
      "cell_type": "markdown",
      "source": [
        "### ***Hurrah! You have successfully completed your EDA Capstone Project !!!***"
      ],
      "metadata": {
        "id": "gIfDvo9L0UH2"
      }
    },
    {
      "cell_type": "code",
      "source": [],
      "metadata": {
        "id": "dYX880etpL0x"
      },
      "execution_count": null,
      "outputs": []
    },
    {
      "cell_type": "code",
      "source": [],
      "metadata": {
        "id": "-6Vl263upPVI"
      },
      "execution_count": null,
      "outputs": []
    }
  ]
}